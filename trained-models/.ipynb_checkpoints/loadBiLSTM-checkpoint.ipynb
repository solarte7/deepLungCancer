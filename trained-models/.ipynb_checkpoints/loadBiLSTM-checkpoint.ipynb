{
 "cells": [
  {
   "cell_type": "markdown",
   "metadata": {},
   "source": [
    "# Load bilstm y crf - clinicalEmb-300-skyp\n",
    "## NewDataset Lung Cancer\n",
    "\n",
    "### Load and using the lung cancer BiLSTM-CRF Model"
   ]
  },
  {
   "cell_type": "code",
   "execution_count": 1,
   "metadata": {},
   "outputs": [],
   "source": [
    "import sys\n",
    "sys.path.append('./libs')\n",
    "\n",
    "import tensorflow as tf\n",
    "import matplotlib.pyplot as plt\n",
    "import numpy as np\n",
    "import pickle\n",
    "import pandas as pd\n",
    "import seaborn as sn\n",
    "from itertools import islice\n",
    "\n",
    "from tabulate import tabulate\n",
    "from sklearn.metrics import confusion_matrix\n",
    "from sklearn.metrics import classification_report as eskclarep\n",
    "from seqeval.metrics import precision_score, recall_score, f1_score, accuracy_score\n",
    "from seqeval.metrics import classification_report as seqclarep\n",
    "from sklearn.preprocessing import LabelBinarizer\n",
    "from itertools import chain\n",
    "from sklearn.model_selection import KFold\n",
    "\n",
    "from tensorflow import keras\n",
    "from tensorflow.keras.preprocessing.sequence import pad_sequences\n",
    "from tensorflow.keras.models import Model, Sequential\n",
    "from tensorflow.keras.layers import Concatenate, Lambda, Input, LSTM, Embedding, Dense, TimeDistributed, Dropout, Bidirectional, InputLayer, Activation, Flatten, Masking\n",
    "from tensorflow.keras.optimizers import Adam, schedules\n",
    "\n",
    "from tf2crf import CRF as crf6\n",
    "from mwrapper import ModelWithCRFLoss, ModelWithCRFLossDSCLoss\n",
    "from utils import build_matrix_embeddings as bme, plot_model_performance, logits_to_tokens, report_to_df2\n",
    "\n",
    "from tensorflow.keras.callbacks import ModelCheckpoint\n",
    "from tensorflow.keras.callbacks import TensorBoard\n",
    "\n",
    "from IPython.core.display import display, HTML\n",
    "\n",
    "import datetime, os\n",
    "import random"
   ]
  },
  {
   "cell_type": "code",
   "execution_count": 2,
   "metadata": {},
   "outputs": [
    {
     "name": "stdout",
     "output_type": "stream",
     "text": [
      "2 Physical GPUs, 2 Logical GPUs\n"
     ]
    }
   ],
   "source": [
    "SEED = 42\n",
    "os.environ['PYTHONHASHSEED']=str(SEED)\n",
    "os.environ['TF_CUDNN_DETERMINISTIC'] = '1'  # TF 2.1+\n",
    "random.seed(SEED)\n",
    "np.random.seed(SEED)\n",
    "tf.random.set_seed(SEED)\n",
    "\n",
    "MODEL         = 'new-clinial-base-model-new-labels-name' \n",
    "logs_base_dir = \"./logs\"\n",
    "log_dir       = logs_base_dir + \"/\" + MODEL\n",
    "save_base_dir = './saved_model'\n",
    "save_dir      = save_base_dir + \"/\" + MODEL\n",
    "\n",
    "os.makedirs(logs_base_dir, exist_ok=True)\n",
    "os.makedirs(log_dir,       exist_ok=True)\n",
    "os.makedirs(save_base_dir, exist_ok=True)\n",
    "os.makedirs(save_dir,      exist_ok=True)\n",
    "\n",
    "#%load_ext tensorboard\n",
    "\n",
    "gpus = tf.config.experimental.list_physical_devices('GPU')\n",
    "if gpus:\n",
    "    try:\n",
    "        # Currently, memory growth needs to be the same across GPUs\n",
    "        for gpu in gpus:\n",
    "            tf.config.experimental.set_memory_growth(gpu, True)\n",
    "            \n",
    "        logical_gpus = tf.config.experimental.list_logical_devices('GPU')\n",
    "        print(len(gpus), \"Physical GPUs,\", len(logical_gpus), \"Logical GPUs\")\n",
    "    except RuntimeError as e:\n",
    "        # Memory growth must be set before GPUs have been initialized\n",
    "        print(e)"
   ]
  },
  {
   "cell_type": "code",
   "execution_count": 3,
   "metadata": {},
   "outputs": [],
   "source": [
    "# ****** DEFINICION DE PARAMETROS *********\n",
    "NUM_WORDS       = 14485 + 2 #13705 + 2\n",
    "LEN_SENTS       = 306\n",
    "NUM_TAGS        = 37 + 2\n",
    "\n",
    "\n",
    "# ****** DEFINICION DE HIPERPARAMETROS *********\n",
    "_EPOCHS         = 50\n",
    "EMBED_DIM       = 300\n",
    "_DROPOUT        = 0.5\n",
    "_BACH_SIZE      = 512 + (256+128)\n",
    "_LEARN_RATE     = 5e-3\n",
    "NUM_FOLDS       = 5\n",
    "VAL_SPLIT       = 0.2\n",
    "\n",
    "prime_data_fold = []\n",
    "total_data_fold = []"
   ]
  },
  {
   "cell_type": "markdown",
   "metadata": {},
   "source": [
    "## Loading Vectors"
   ]
  },
  {
   "cell_type": "code",
   "execution_count": 5,
   "metadata": {},
   "outputs": [],
   "source": [
    "word2idx = np.load('./vectors/word2index.npy', allow_pickle=True).item()\n",
    "tag2idx  = np.load('./vectors/tag2index.npy', allow_pickle=True).item()\n",
    "idx2tag  = np.load('./vectors/index2tag.npy', allow_pickle=True).item()"
   ]
  },
  {
   "cell_type": "code",
   "execution_count": 6,
   "metadata": {},
   "outputs": [
    {
     "name": "stdout",
     "output_type": "stream",
     "text": [
      "{'B-BIOMARKER_STATUS': 2, 'B-CHEMOTHERAPY': 3, 'I-STAGE': 4, 'I-FREQ': 5, 'B-FAMILY': 6, 'I-IMPLICIT_DATE': 7, 'B-DRUG': 8, 'B-OCURRENCE_EVENT': 9, 'B-STAGE': 10, 'B-COMORBIDITY': 11, 'I-SURGERY': 12, 'I-TNM': 13, 'B-METRIC': 14, 'I-FAMILY': 15, 'I-OCURRENCE_EVENT': 16, 'B-EXPLICIT_DATE': 17, 'I-BIOMARKER': 18, 'B-CANCER_CONCEPT': 19, 'O': 20, 'B-IMPLICIT_DATE': 21, 'B-TNM': 22, 'B-RADIOTHERAPY': 23, 'I-TOXIC_HABIT': 24, 'B-BIOMARKER': 25, 'B-QUANTITY': 26, 'I-DRUG': 27, 'I-BIOMARKER_STATUS': 28, 'I-CANCER_CONCEPT': 29, 'B-TOXIC_HABIT': 30, 'I-CLINICAL_SERVICE': 31, 'B-SURGERY': 32, 'I-COMORBIDITY': 33, 'I-METRIC': 34, 'I-QUANTITY': 35, 'I-EXPLICIT_DATE': 36, 'B-CLINICAL_SERVICE': 37, 'B-FREQ': 38, '-PAD-': 0, '-OOV-': 1}\n"
     ]
    }
   ],
   "source": [
    "print(tag2idx)"
   ]
  },
  {
   "cell_type": "code",
   "execution_count": 7,
   "metadata": {},
   "outputs": [
    {
     "name": "stdout",
     "output_type": "stream",
     "text": [
      "\n",
      "Loading the model NER ...\n",
      "\n",
      "Model loaded ...\n"
     ]
    }
   ],
   "source": [
    "#Loading the model\n",
    "print(\"\\nLoading the model NER ...\")\n",
    "model = tf.saved_model.load(save_dir + \"/\")\n",
    "print (\"\\nModel loaded ...\")"
   ]
  },
  {
   "cell_type": "code",
   "execution_count": 8,
   "metadata": {},
   "outputs": [],
   "source": [
    "#Note: Sentences must be previously tokenized (e.g NLTK or Spacy for spanish)\n",
    "#The model receives a tokenized sentence and returns a negation or speculation label for each token.\n",
    "#Next sentences have been proviously tokenized. \n",
    "#It is recommended to use  NLTK o r Spacy tokenizerfor spanish language.\n",
    "#NER = Named Entity Recognition\n",
    "NER_samples = [\n",
    "    \"CICLO 2 CARBOPLATINO / PACLITAXEL . \".split(),\n",
    "    \"En Agosto de 2015 ha recibido 3 ciclos de CISPLATINO / VINORELBINA buena tolerancia clinica .\".split(),\n",
    "    \"QT : CISPLATINO 75 mg / m2 DIA 1 IV + VINORELBINA 25 mg / m2 IV DIAS 1,8 - Adenocarcinoma pulmon lobulo superior derecho \".split(),\n",
    "    \"El dia 27 de junio iniciamos tratamiento con quimioterapia segun esquema CARBOPLATINO / PEMETREXED .\".split(),\n",
    "    \"CICLO 1 CARBOPLATINO AUC 5 - PEMETREXED 500 mg/m2 IV cada 21 dias .\".split(),\n",
    "    \"RT con dosis 50 Gy, se encuentra bien . \".split(),\n",
    "    \"Carcinoma escamoso de pulmón cT3 cN2 cM0 (al menos estadio IIIB de TNM 8ª ed .\".split(),\n",
    "    \"Diagnosticado en marzo de 2016 de Adenoca de pulmón cT2cN2cM1a .\".split(),\n",
    "    \"Ha sido diagnosticada de cancer de pulmon en marzo de 2019 .\".split(),\n",
    "    \"Inicia tratamiento con Cisplatino + Pemetrexed + Bevacizumab (5 ciclos administrados, ultimo en enero de 2014).\".split(),\n",
    "    \"Carcinoma escamoso de pulmón intervenido en marzo 2017 .\".split(),\n",
    "    \"En 2014, intervenido de carcinoma de pulmón pT2bN1cM0 realizandose nefrectomia derecha .\".split(),\n",
    "    \"Carcinoma microcitico de pulmon t4n2m0 en tto quimioterapico: carboplatino / etoposido .\".split(),\n",
    "    \"Paciente con Carcinoma de pulmón,  ROS1 negativo, ALK postivo, EFGR negativo. \".split(),\n",
    "    \"Biopsia hepatica 07/05/2019 : bajo control ecografico se localiza masa homogenea tenuemente hipoecogenica de 4,8 x 2,9 x 2,3 cm en segmento ii y se procede a realizar bag ecoguiada de la misma . \".split(),\n",
    "    \"Paciente fumador de 4 cigarrillos al dia\".split(),\n",
    "    \"Se visualizan numerosas adenopatias mediastinicas\".split()\n",
    "]\n",
    "    "
   ]
  },
  {
   "cell_type": "code",
   "execution_count": 9,
   "metadata": {},
   "outputs": [
    {
     "name": "stdout",
     "output_type": "stream",
     "text": [
      "Negation: \n",
      " [[ 9543  7740  9516 ...     0     0     0]\n",
      " [12211 11767   328 ...     0     0     0]\n",
      " [14296 12691 14451 ...     0     0     0]\n",
      " ...\n",
      " [ 6052  1325 14168 ...     0     0     0]\n",
      " [ 8920  8125   328 ...     0     0     0]\n",
      " [ 8965  9493    77 ...     0     0     0]]\n"
     ]
    }
   ],
   "source": [
    "NER_samples_X    = []\n",
    "\n",
    "for s1 in NER_samples:\n",
    "    s1_int = []\n",
    "    for w in s1:\n",
    "        try:\n",
    "            s1_int.append(word2idx[w.lower()])\n",
    "        except KeyError:\n",
    "            s1_int.append(word2idx['-OOV-'])\n",
    "    NER_samples_X.append(s1_int)\n",
    "\n",
    "NER_samples_X = pad_sequences(NER_samples_X, maxlen=LEN_SENTS, padding='post')\n",
    "\n",
    "print(\"Negation: \\n\", NER_samples_X)"
   ]
  },
  {
   "cell_type": "code",
   "execution_count": 10,
   "metadata": {},
   "outputs": [],
   "source": [
    "predictions1 = model(NER_samples_X).numpy()"
   ]
  },
  {
   "cell_type": "code",
   "execution_count": 11,
   "metadata": {},
   "outputs": [
    {
     "name": "stdout",
     "output_type": "stream",
     "text": [
      "Sentence  [ 9543  7740  9516  5858  2343 11138     0     0     0     0     0     0\n",
      "     0     0     0     0     0     0     0     0     0     0     0     0\n",
      "     0     0     0     0     0     0     0     0     0     0     0     0\n",
      "     0     0     0     0     0     0     0     0     0     0     0     0\n",
      "     0     0     0     0     0     0     0     0     0     0     0     0\n",
      "     0     0     0     0     0     0     0     0     0     0     0     0\n",
      "     0     0     0     0     0     0     0     0     0     0     0     0\n",
      "     0     0     0     0     0     0     0     0     0     0     0     0\n",
      "     0     0     0     0     0     0     0     0     0     0     0     0\n",
      "     0     0     0     0     0     0     0     0     0     0     0     0\n",
      "     0     0     0     0     0     0     0     0     0     0     0     0\n",
      "     0     0     0     0     0     0     0     0     0     0     0     0\n",
      "     0     0     0     0     0     0     0     0     0     0     0     0\n",
      "     0     0     0     0     0     0     0     0     0     0     0     0\n",
      "     0     0     0     0     0     0     0     0     0     0     0     0\n",
      "     0     0     0     0     0     0     0     0     0     0     0     0\n",
      "     0     0     0     0     0     0     0     0     0     0     0     0\n",
      "     0     0     0     0     0     0     0     0     0     0     0     0\n",
      "     0     0     0     0     0     0     0     0     0     0     0     0\n",
      "     0     0     0     0     0     0     0     0     0     0     0     0\n",
      "     0     0     0     0     0     0     0     0     0     0     0     0\n",
      "     0     0     0     0     0     0     0     0     0     0     0     0\n",
      "     0     0     0     0     0     0     0     0     0     0     0     0\n",
      "     0     0     0     0     0     0     0     0     0     0     0     0\n",
      "     0     0     0     0     0     0     0     0     0     0     0     0\n",
      "     0     0     0     0     0     0]\n",
      "Negation: \n",
      " ['B-METRIC', 'B-QUANTITY', 'B-DRUG', 'O', 'B-DRUG', 'O', '-PAD-', '-PAD-', '-PAD-', '-PAD-', '-PAD-', '-PAD-', '-PAD-', '-PAD-', '-PAD-', '-PAD-', '-PAD-', '-PAD-', '-PAD-', '-PAD-', '-PAD-', '-PAD-', '-PAD-', '-PAD-', '-PAD-', '-PAD-', '-PAD-', '-PAD-', '-PAD-', '-PAD-', '-PAD-', '-PAD-', '-PAD-', '-PAD-', '-PAD-', '-PAD-', '-PAD-', '-PAD-', '-PAD-', '-PAD-', '-PAD-', '-PAD-', '-PAD-', '-PAD-', '-PAD-', '-PAD-', '-PAD-', '-PAD-', '-PAD-', '-PAD-', '-PAD-', '-PAD-', '-PAD-', '-PAD-', '-PAD-', '-PAD-', '-PAD-', '-PAD-', '-PAD-', '-PAD-', '-PAD-', '-PAD-', '-PAD-', '-PAD-', '-PAD-', '-PAD-', '-PAD-', '-PAD-', '-PAD-', '-PAD-', '-PAD-', '-PAD-', '-PAD-', '-PAD-', '-PAD-', '-PAD-', '-PAD-', '-PAD-', '-PAD-', '-PAD-', '-PAD-', '-PAD-', '-PAD-', '-PAD-', '-PAD-', '-PAD-', '-PAD-', '-PAD-', '-PAD-', '-PAD-', '-PAD-', '-PAD-', '-PAD-', '-PAD-', '-PAD-', '-PAD-', '-PAD-', '-PAD-', '-PAD-', '-PAD-', '-PAD-', '-PAD-', '-PAD-', '-PAD-', '-PAD-', '-PAD-', '-PAD-', '-PAD-', '-PAD-', '-PAD-', '-PAD-', '-PAD-', '-PAD-', '-PAD-', '-PAD-', '-PAD-', '-PAD-', '-PAD-', '-PAD-', '-PAD-', '-PAD-', '-PAD-', '-PAD-', '-PAD-', '-PAD-', '-PAD-', '-PAD-', '-PAD-', '-PAD-', '-PAD-', '-PAD-', '-PAD-', '-PAD-', '-PAD-', '-PAD-', '-PAD-', '-PAD-', '-PAD-', '-PAD-', '-PAD-', '-PAD-', '-PAD-', '-PAD-', '-PAD-', '-PAD-', '-PAD-', '-PAD-', '-PAD-', '-PAD-', '-PAD-', '-PAD-', '-PAD-', '-PAD-', '-PAD-', '-PAD-', '-PAD-', '-PAD-', '-PAD-', '-PAD-', '-PAD-', '-PAD-', '-PAD-', '-PAD-', '-PAD-', '-PAD-', '-PAD-', '-PAD-', '-PAD-', '-PAD-', '-PAD-', '-PAD-', '-PAD-', '-PAD-', '-PAD-', '-PAD-', '-PAD-', '-PAD-', '-PAD-', '-PAD-', '-PAD-', '-PAD-', '-PAD-', '-PAD-', '-PAD-', '-PAD-', '-PAD-', '-PAD-', '-PAD-', '-PAD-', '-PAD-', '-PAD-', '-PAD-', '-PAD-', '-PAD-', '-PAD-', '-PAD-', '-PAD-', '-PAD-', '-PAD-', '-PAD-', '-PAD-', '-PAD-', '-PAD-', '-PAD-', '-PAD-', '-PAD-', '-PAD-', '-PAD-', '-PAD-', '-PAD-', '-PAD-', '-PAD-', '-PAD-', '-PAD-', '-PAD-', '-PAD-', '-PAD-', '-PAD-', '-PAD-', '-PAD-', '-PAD-', '-PAD-', '-PAD-', '-PAD-', '-PAD-', '-PAD-', '-PAD-', '-PAD-', '-PAD-', '-PAD-', '-PAD-', '-PAD-', '-PAD-', '-PAD-', '-PAD-', '-PAD-', '-PAD-', '-PAD-', '-PAD-', '-PAD-', '-PAD-', '-PAD-', '-PAD-', '-PAD-', '-PAD-', '-PAD-', '-PAD-', '-PAD-', '-PAD-', '-PAD-', '-PAD-', '-PAD-', '-PAD-', '-PAD-', '-PAD-', '-PAD-', '-PAD-', '-PAD-', '-PAD-', '-PAD-', '-PAD-', '-PAD-', '-PAD-', '-PAD-', '-PAD-', '-PAD-', '-PAD-', '-PAD-', '-PAD-', '-PAD-', '-PAD-', '-PAD-', '-PAD-', '-PAD-', '-PAD-', '-PAD-', '-PAD-', '-PAD-', '-PAD-', '-PAD-', '-PAD-', '-PAD-', '-PAD-', '-PAD-', '-PAD-', '-PAD-', '-PAD-', '-PAD-', '-PAD-', '-PAD-', '-PAD-', '-PAD-', '-PAD-', '-PAD-', '-PAD-', '-PAD-', '-PAD-', '-PAD-', '-PAD-', '-PAD-', '-PAD-', '-PAD-', '-PAD-', '-PAD-', '-PAD-', '-PAD-']\n"
     ]
    }
   ],
   "source": [
    "log_tokens1 = logits_to_tokens(predictions1, idx2tag)\n",
    "print (\"Sentence \" , NER_samples_X[0])\n",
    "print(\"Negation: \\n\", log_tokens1[0])"
   ]
  },
  {
   "cell_type": "code",
   "execution_count": 12,
   "metadata": {},
   "outputs": [
    {
     "data": {
      "text/html": [
       "<div style='overflow-x: auto; white-space: nowrap;'><table>\n",
       "<thead>\n",
       "<tr><th>CICLO   </th><th>2         </th><th>CARBOPLATINO  </th><th>/  </th><th>PACLITAXEL  </th><th>.  </th></tr>\n",
       "</thead>\n",
       "<tbody>\n",
       "<tr><td>B-METRIC</td><td>B-QUANTITY</td><td>B-DRUG        </td><td>O  </td><td>B-DRUG      </td><td>O  </td></tr>\n",
       "</tbody>\n",
       "</table></div>"
      ],
      "text/plain": [
       "<IPython.core.display.HTML object>"
      ]
     },
     "metadata": {},
     "output_type": "display_data"
    },
    {
     "data": {
      "text/html": [
       "<div style='overflow-x: auto; white-space: nowrap;'><table>\n",
       "<thead>\n",
       "<tr><th>En  </th><th>Agosto         </th><th>de             </th><th>2015           </th><th>ha  </th><th>recibido  </th><th>3         </th><th>ciclos  </th><th>de  </th><th>CISPLATINO  </th><th>/  </th><th>VINORELBINA  </th><th>buena  </th><th>tolerancia  </th><th>clinica  </th><th>.  </th></tr>\n",
       "</thead>\n",
       "<tbody>\n",
       "<tr><td>O   </td><td>B-EXPLICIT_DATE</td><td>I-EXPLICIT_DATE</td><td>I-EXPLICIT_DATE</td><td>O   </td><td>O         </td><td>B-QUANTITY</td><td>B-METRIC</td><td>O   </td><td>B-DRUG      </td><td>O  </td><td>B-DRUG       </td><td>O      </td><td>O           </td><td>O        </td><td>O  </td></tr>\n",
       "</tbody>\n",
       "</table></div>"
      ],
      "text/plain": [
       "<IPython.core.display.HTML object>"
      ]
     },
     "metadata": {},
     "output_type": "display_data"
    },
    {
     "data": {
      "text/html": [
       "<div style='overflow-x: auto; white-space: nowrap;'><table>\n",
       "<thead>\n",
       "<tr><th>QT  </th><th>:  </th><th>CISPLATINO  </th><th>75        </th><th>mg      </th><th>/       </th><th>m2      </th><th>DIA     </th><th>1         </th><th>IV  </th><th>+  </th><th>VINORELBINA  </th><th>25        </th><th>mg      </th><th>/       </th><th>m2      </th><th>IV  </th><th>DIAS  </th><th>1,8       </th><th>-  </th><th>Adenocarcinoma  </th><th>pulmon          </th><th>lobulo          </th><th>superior        </th><th>derecho         </th></tr>\n",
       "</thead>\n",
       "<tbody>\n",
       "<tr><td>O   </td><td>O  </td><td>B-DRUG      </td><td>B-QUANTITY</td><td>B-METRIC</td><td>I-METRIC</td><td>I-METRIC</td><td>B-METRIC</td><td>B-QUANTITY</td><td>O   </td><td>O  </td><td>B-DRUG       </td><td>B-QUANTITY</td><td>B-METRIC</td><td>I-METRIC</td><td>I-METRIC</td><td>O   </td><td>O     </td><td>B-QUANTITY</td><td>O  </td><td>B-CANCER_CONCEPT</td><td>I-CANCER_CONCEPT</td><td>I-CANCER_CONCEPT</td><td>I-CANCER_CONCEPT</td><td>I-CANCER_CONCEPT</td></tr>\n",
       "</tbody>\n",
       "</table></div>"
      ],
      "text/plain": [
       "<IPython.core.display.HTML object>"
      ]
     },
     "metadata": {},
     "output_type": "display_data"
    },
    {
     "data": {
      "text/html": [
       "<div style='overflow-x: auto; white-space: nowrap;'><table>\n",
       "<thead>\n",
       "<tr><th>El  </th><th>dia  </th><th>27             </th><th>de             </th><th>junio          </th><th>iniciamos        </th><th>tratamiento      </th><th>con  </th><th>quimioterapia  </th><th>segun  </th><th>esquema  </th><th>CARBOPLATINO  </th><th>/  </th><th>PEMETREXED  </th><th>.  </th></tr>\n",
       "</thead>\n",
       "<tbody>\n",
       "<tr><td>O   </td><td>O    </td><td>B-EXPLICIT_DATE</td><td>I-EXPLICIT_DATE</td><td>I-EXPLICIT_DATE</td><td>B-OCURRENCE_EVENT</td><td>I-OCURRENCE_EVENT</td><td>O    </td><td>B-CHEMOTHERAPY </td><td>O      </td><td>O        </td><td>B-DRUG        </td><td>O  </td><td>B-DRUG      </td><td>O  </td></tr>\n",
       "</tbody>\n",
       "</table></div>"
      ],
      "text/plain": [
       "<IPython.core.display.HTML object>"
      ]
     },
     "metadata": {},
     "output_type": "display_data"
    },
    {
     "data": {
      "text/html": [
       "<div style='overflow-x: auto; white-space: nowrap;'><table>\n",
       "<thead>\n",
       "<tr><th>CICLO   </th><th>1         </th><th>CARBOPLATINO  </th><th>AUC     </th><th>5         </th><th>-  </th><th>PEMETREXED  </th><th>500       </th><th>mg/m2   </th><th>IV  </th><th>cada  </th><th>21    </th><th>dias  </th><th>.  </th></tr>\n",
       "</thead>\n",
       "<tbody>\n",
       "<tr><td>B-METRIC</td><td>B-QUANTITY</td><td>B-DRUG        </td><td>B-METRIC</td><td>B-QUANTITY</td><td>O  </td><td>B-DRUG      </td><td>B-QUANTITY</td><td>B-METRIC</td><td>O   </td><td>B-FREQ</td><td>I-FREQ</td><td>I-FREQ</td><td>O  </td></tr>\n",
       "</tbody>\n",
       "</table></div>"
      ],
      "text/plain": [
       "<IPython.core.display.HTML object>"
      ]
     },
     "metadata": {},
     "output_type": "display_data"
    },
    {
     "data": {
      "text/html": [
       "<div style='overflow-x: auto; white-space: nowrap;'><table>\n",
       "<thead>\n",
       "<tr><th>RT  </th><th>con  </th><th>dosis  </th><th>50        </th><th>Gy,     </th><th>se  </th><th>encuentra  </th><th>bien  </th><th>.  </th></tr>\n",
       "</thead>\n",
       "<tbody>\n",
       "<tr><td>O   </td><td>O    </td><td>O      </td><td>B-QUANTITY</td><td>B-METRIC</td><td>O   </td><td>O          </td><td>O     </td><td>O  </td></tr>\n",
       "</tbody>\n",
       "</table></div>"
      ],
      "text/plain": [
       "<IPython.core.display.HTML object>"
      ]
     },
     "metadata": {},
     "output_type": "display_data"
    },
    {
     "data": {
      "text/html": [
       "<div style='overflow-x: auto; white-space: nowrap;'><table>\n",
       "<thead>\n",
       "<tr><th>Carcinoma       </th><th>escamoso        </th><th>de              </th><th>pulmón          </th><th>cT3  </th><th>cN2  </th><th>cM0  </th><th>(al  </th><th>menos  </th><th>estadio  </th><th>IIIB   </th><th>de  </th><th>TNM  </th><th>8ª        </th><th>ed      </th><th>.  </th></tr>\n",
       "</thead>\n",
       "<tbody>\n",
       "<tr><td>B-CANCER_CONCEPT</td><td>I-CANCER_CONCEPT</td><td>I-CANCER_CONCEPT</td><td>I-CANCER_CONCEPT</td><td>B-TNM</td><td>I-TNM</td><td>I-TNM</td><td>I-TNM</td><td>O      </td><td>B-STAGE  </td><td>I-STAGE</td><td>O   </td><td>O    </td><td>B-QUANTITY</td><td>B-METRIC</td><td>O  </td></tr>\n",
       "</tbody>\n",
       "</table></div>"
      ],
      "text/plain": [
       "<IPython.core.display.HTML object>"
      ]
     },
     "metadata": {},
     "output_type": "display_data"
    },
    {
     "data": {
      "text/html": [
       "<div style='overflow-x: auto; white-space: nowrap;'><table>\n",
       "<thead>\n",
       "<tr><th>Diagnosticado    </th><th>en  </th><th>marzo          </th><th>de             </th><th>2016           </th><th>de  </th><th>Adenoca         </th><th>de              </th><th>pulmón          </th><th>cT2cN2cM1a  </th><th>.  </th></tr>\n",
       "</thead>\n",
       "<tbody>\n",
       "<tr><td>B-OCURRENCE_EVENT</td><td>O   </td><td>B-EXPLICIT_DATE</td><td>I-EXPLICIT_DATE</td><td>I-EXPLICIT_DATE</td><td>O   </td><td>B-CANCER_CONCEPT</td><td>I-CANCER_CONCEPT</td><td>I-CANCER_CONCEPT</td><td>B-TNM       </td><td>O  </td></tr>\n",
       "</tbody>\n",
       "</table></div>"
      ],
      "text/plain": [
       "<IPython.core.display.HTML object>"
      ]
     },
     "metadata": {},
     "output_type": "display_data"
    },
    {
     "data": {
      "text/html": [
       "<div style='overflow-x: auto; white-space: nowrap;'><table>\n",
       "<thead>\n",
       "<tr><th>Ha  </th><th>sido  </th><th>diagnosticada    </th><th>de  </th><th>cancer          </th><th>de              </th><th>pulmon          </th><th>en  </th><th>marzo          </th><th>de             </th><th>2019           </th><th>.  </th></tr>\n",
       "</thead>\n",
       "<tbody>\n",
       "<tr><td>O   </td><td>O     </td><td>B-OCURRENCE_EVENT</td><td>O   </td><td>B-CANCER_CONCEPT</td><td>I-CANCER_CONCEPT</td><td>I-CANCER_CONCEPT</td><td>O   </td><td>B-EXPLICIT_DATE</td><td>I-EXPLICIT_DATE</td><td>I-EXPLICIT_DATE</td><td>O  </td></tr>\n",
       "</tbody>\n",
       "</table></div>"
      ],
      "text/plain": [
       "<IPython.core.display.HTML object>"
      ]
     },
     "metadata": {},
     "output_type": "display_data"
    },
    {
     "data": {
      "text/html": [
       "<div style='overflow-x: auto; white-space: nowrap;'><table>\n",
       "<thead>\n",
       "<tr><th>Inicia           </th><th>tratamiento      </th><th>con  </th><th>Cisplatino  </th><th>+  </th><th>Pemetrexed  </th><th>+  </th><th>Bevacizumab  </th><th>(5        </th><th>ciclos  </th><th>administrados,  </th><th>ultimo           </th><th>en  </th><th>enero          </th><th>de             </th><th>2014).  </th></tr>\n",
       "</thead>\n",
       "<tbody>\n",
       "<tr><td>B-OCURRENCE_EVENT</td><td>I-OCURRENCE_EVENT</td><td>O    </td><td>B-DRUG      </td><td>O  </td><td>B-DRUG      </td><td>O  </td><td>B-DRUG       </td><td>B-QUANTITY</td><td>B-METRIC</td><td>O               </td><td>B-OCURRENCE_EVENT</td><td>O   </td><td>B-EXPLICIT_DATE</td><td>I-EXPLICIT_DATE</td><td>-PAD-   </td></tr>\n",
       "</tbody>\n",
       "</table></div>"
      ],
      "text/plain": [
       "<IPython.core.display.HTML object>"
      ]
     },
     "metadata": {},
     "output_type": "display_data"
    },
    {
     "data": {
      "text/html": [
       "<div style='overflow-x: auto; white-space: nowrap;'><table>\n",
       "<thead>\n",
       "<tr><th>Carcinoma       </th><th>escamoso        </th><th>de              </th><th>pulmón          </th><th>intervenido      </th><th>en  </th><th>marzo          </th><th>2017           </th><th>.  </th></tr>\n",
       "</thead>\n",
       "<tbody>\n",
       "<tr><td>B-CANCER_CONCEPT</td><td>I-CANCER_CONCEPT</td><td>I-CANCER_CONCEPT</td><td>I-CANCER_CONCEPT</td><td>B-OCURRENCE_EVENT</td><td>O   </td><td>B-EXPLICIT_DATE</td><td>I-EXPLICIT_DATE</td><td>O  </td></tr>\n",
       "</tbody>\n",
       "</table></div>"
      ],
      "text/plain": [
       "<IPython.core.display.HTML object>"
      ]
     },
     "metadata": {},
     "output_type": "display_data"
    },
    {
     "data": {
      "text/html": [
       "<div style='overflow-x: auto; white-space: nowrap;'><table>\n",
       "<thead>\n",
       "<tr><th>En  </th><th>2014,          </th><th>intervenido      </th><th>de  </th><th>carcinoma       </th><th>de              </th><th>pulmón          </th><th>pT2bN1cM0  </th><th>realizandose  </th><th>nefrectomia  </th><th>derecha  </th><th>.  </th></tr>\n",
       "</thead>\n",
       "<tbody>\n",
       "<tr><td>O   </td><td>B-EXPLICIT_DATE</td><td>B-OCURRENCE_EVENT</td><td>O   </td><td>B-CANCER_CONCEPT</td><td>I-CANCER_CONCEPT</td><td>I-CANCER_CONCEPT</td><td>B-TNM      </td><td>O             </td><td>B-SURGERY    </td><td>I-SURGERY</td><td>O  </td></tr>\n",
       "</tbody>\n",
       "</table></div>"
      ],
      "text/plain": [
       "<IPython.core.display.HTML object>"
      ]
     },
     "metadata": {},
     "output_type": "display_data"
    },
    {
     "data": {
      "text/html": [
       "<div style='overflow-x: auto; white-space: nowrap;'><table>\n",
       "<thead>\n",
       "<tr><th>Carcinoma       </th><th>microcitico     </th><th>de              </th><th>pulmon          </th><th>t4n2m0  </th><th>en  </th><th>tto  </th><th>quimioterapico:  </th><th>carboplatino  </th><th>/  </th><th>etoposido  </th><th>.  </th></tr>\n",
       "</thead>\n",
       "<tbody>\n",
       "<tr><td>B-CANCER_CONCEPT</td><td>I-CANCER_CONCEPT</td><td>I-CANCER_CONCEPT</td><td>I-CANCER_CONCEPT</td><td>B-TNM   </td><td>O   </td><td>O    </td><td>O                </td><td>B-DRUG        </td><td>O  </td><td>B-DRUG     </td><td>O  </td></tr>\n",
       "</tbody>\n",
       "</table></div>"
      ],
      "text/plain": [
       "<IPython.core.display.HTML object>"
      ]
     },
     "metadata": {},
     "output_type": "display_data"
    },
    {
     "data": {
      "text/html": [
       "<div style='overflow-x: auto; white-space: nowrap;'><table>\n",
       "<thead>\n",
       "<tr><th>Paciente  </th><th>con  </th><th>Carcinoma       </th><th>de              </th><th>pulmón,         </th><th>ROS1  </th><th>negativo,  </th><th>ALK        </th><th>postivo,  </th><th>EFGR  </th><th>negativo.  </th></tr>\n",
       "</thead>\n",
       "<tbody>\n",
       "<tr><td>O         </td><td>O    </td><td>B-CANCER_CONCEPT</td><td>I-CANCER_CONCEPT</td><td>I-CANCER_CONCEPT</td><td>B-TNM </td><td>I-TNM      </td><td>B-BIOMARKER</td><td>-PAD-     </td><td>-PAD- </td><td>-PAD-      </td></tr>\n",
       "</tbody>\n",
       "</table></div>"
      ],
      "text/plain": [
       "<IPython.core.display.HTML object>"
      ]
     },
     "metadata": {},
     "output_type": "display_data"
    },
    {
     "data": {
      "text/html": [
       "<div style='overflow-x: auto; white-space: nowrap;'><table>\n",
       "<thead>\n",
       "<tr><th>Biopsia  </th><th>hepatica  </th><th>07/05/2019  </th><th>:  </th><th>bajo  </th><th>control  </th><th>ecografico  </th><th>se  </th><th>localiza  </th><th>masa  </th><th>homogenea  </th><th>tenuemente  </th><th>hipoecogenica  </th><th>de  </th><th>4,8       </th><th>x         </th><th>2,9       </th><th>x         </th><th>2,3       </th><th>cm      </th><th>en  </th><th>segmento  </th><th>ii  </th><th>y  </th><th>se  </th><th>procede  </th><th>a  </th><th>realizar  </th><th>bag  </th><th>ecoguiada  </th><th>de  </th><th>la  </th><th>misma  </th><th>.  </th></tr>\n",
       "</thead>\n",
       "<tbody>\n",
       "<tr><td>O        </td><td>O         </td><td>O           </td><td>O  </td><td>O     </td><td>O        </td><td>O           </td><td>O   </td><td>O         </td><td>O     </td><td>O          </td><td>O           </td><td>O              </td><td>O   </td><td>B-QUANTITY</td><td>I-QUANTITY</td><td>I-QUANTITY</td><td>I-QUANTITY</td><td>I-QUANTITY</td><td>B-METRIC</td><td>O   </td><td>O         </td><td>O   </td><td>O  </td><td>O   </td><td>O        </td><td>O  </td><td>O         </td><td>O    </td><td>O          </td><td>O   </td><td>O   </td><td>O      </td><td>O  </td></tr>\n",
       "</tbody>\n",
       "</table></div>"
      ],
      "text/plain": [
       "<IPython.core.display.HTML object>"
      ]
     },
     "metadata": {},
     "output_type": "display_data"
    },
    {
     "data": {
      "text/html": [
       "<div style='overflow-x: auto; white-space: nowrap;'><table>\n",
       "<thead>\n",
       "<tr><th>Paciente  </th><th>fumador      </th><th>de  </th><th>4         </th><th>cigarrillos  </th><th>al  </th><th>dia   </th></tr>\n",
       "</thead>\n",
       "<tbody>\n",
       "<tr><td>O         </td><td>B-TOXIC_HABIT</td><td>O   </td><td>B-QUANTITY</td><td>B-METRIC     </td><td>O   </td><td>B-FREQ</td></tr>\n",
       "</tbody>\n",
       "</table></div>"
      ],
      "text/plain": [
       "<IPython.core.display.HTML object>"
      ]
     },
     "metadata": {},
     "output_type": "display_data"
    },
    {
     "data": {
      "text/html": [
       "<div style='overflow-x: auto; white-space: nowrap;'><table>\n",
       "<thead>\n",
       "<tr><th>Se  </th><th>visualizan  </th><th>numerosas  </th><th>adenopatias  </th><th>mediastinicas  </th></tr>\n",
       "</thead>\n",
       "<tbody>\n",
       "<tr><td>O   </td><td>O           </td><td>O          </td><td>B-COMORBIDITY</td><td>O              </td></tr>\n",
       "</tbody>\n",
       "</table></div>"
      ],
      "text/plain": [
       "<IPython.core.display.HTML object>"
      ]
     },
     "metadata": {},
     "output_type": "display_data"
    }
   ],
   "source": [
    "for h, oracc in enumerate(NER_samples):\n",
    "    heads = oracc\n",
    "    body  = [log_tokens1[h][:len(oracc)]]\n",
    "    display(HTML(\"<div style='overflow-x: auto; white-space: nowrap;'>\" + \n",
    "                 tabulate(body, headers=heads, tablefmt=\"html\") + \n",
    "                 \"</div>\"))"
   ]
  },
  {
   "cell_type": "code",
   "execution_count": null,
   "metadata": {},
   "outputs": [],
   "source": []
  },
  {
   "cell_type": "code",
   "execution_count": null,
   "metadata": {},
   "outputs": [],
   "source": []
  },
  {
   "cell_type": "code",
   "execution_count": null,
   "metadata": {},
   "outputs": [],
   "source": []
  }
 ],
 "metadata": {
  "kernelspec": {
   "display_name": "Python 3",
   "language": "python",
   "name": "python3"
  },
  "language_info": {
   "codemirror_mode": {
    "name": "ipython",
    "version": 3
   },
   "file_extension": ".py",
   "mimetype": "text/x-python",
   "name": "python",
   "nbconvert_exporter": "python",
   "pygments_lexer": "ipython3",
   "version": "3.8.5"
  },
  "varInspector": {
   "cols": {
    "lenName": 16,
    "lenType": 16,
    "lenVar": 40
   },
   "kernels_config": {
    "python": {
     "delete_cmd_postfix": "",
     "delete_cmd_prefix": "del ",
     "library": "var_list.py",
     "varRefreshCmd": "print(var_dic_list())"
    },
    "r": {
     "delete_cmd_postfix": ") ",
     "delete_cmd_prefix": "rm(",
     "library": "var_list.r",
     "varRefreshCmd": "cat(var_dic_list()) "
    }
   },
   "types_to_exclude": [
    "module",
    "function",
    "builtin_function_or_method",
    "instance",
    "_Feature"
   ],
   "window_display": false
  }
 },
 "nbformat": 4,
 "nbformat_minor": 4
}
