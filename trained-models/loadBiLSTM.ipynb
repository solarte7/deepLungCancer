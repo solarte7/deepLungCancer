{
 "cells": [
  {
   "cell_type": "code",
   "execution_count": 12,
   "metadata": {},
   "outputs": [],
   "source": [
    "import tensorflow as tf"
   ]
  },
  {
   "cell_type": "code",
   "execution_count": 1,
   "metadata": {},
   "outputs": [],
   "source": [
    "#Python 3.6"
   ]
  },
  {
   "cell_type": "code",
   "execution_count": 1,
   "metadata": {},
   "outputs": [],
   "source": [
    "import sys\n",
    "sys.path.append('./libs')\n",
    "\n",
    "import tensorflow as tf\n",
    "import matplotlib.pyplot as plt\n",
    "import numpy as np\n",
    "import pickle\n",
    "import pandas as pd\n",
    "from itertools import islice\n",
    "\n",
    "from tabulate import tabulate\n",
    "from sklearn.metrics import confusion_matrix\n",
    "from sklearn.metrics import classification_report as eskclarep\n",
    "from seqeval.metrics import precision_score, recall_score, f1_score, accuracy_score\n",
    "from seqeval.metrics import classification_report as seqclarep\n",
    "from sklearn.preprocessing import LabelBinarizer\n",
    "from itertools import chain\n",
    "\n",
    "from tensorflow import keras\n",
    "from tensorflow.keras.preprocessing.sequence import pad_sequences\n",
    "from tensorflow.keras.utils import to_categorical\n",
    "from tensorflow.keras.models import Model, Sequential\n",
    "from tensorflow.keras.layers import Concatenate, Lambda, Input, LSTM, Embedding, Dense, TimeDistributed, Dropout, Bidirectional, InputLayer, Activation, Flatten, Masking\n",
    "from tensorflow.keras.optimizers import Adam, schedules\n",
    "\n",
    "from tf2crf import CRF as crf6\n",
    "from mwrapper import ModelWithCRFLoss, ModelWithCRFLossDSCLoss\n",
    "from utils import build_matrix_embeddings as bme, plot_model_performance, logits_to_tokens, report_to_df\n",
    "\n",
    "from tensorflow.keras.callbacks import ModelCheckpoint\n",
    "from tensorflow.keras.callbacks import TensorBoard\n",
    "\n",
    "from IPython.core.display import display, HTML\n",
    "\n",
    "import datetime, os\n",
    "import random\n",
    "\n",
    "SEED = 42\n",
    "os.environ['PYTHONHASHSEED']=str(SEED)\n",
    "os.environ['TF_CUDNN_DETERMINISTIC'] = '1'  # TF 2.1+\n",
    "random.seed(SEED)\n",
    "np.random.seed(SEED)\n",
    "tf.random.set_seed(SEED)\n",
    "\n",
    "MODEL         = 'BiLSTM_clinical_embeddings'\n",
    "logs_base_dir = \"./logs\"\n",
    "log_dir       = logs_base_dir + \"/\" + MODEL\n",
    "save_base_dir = './model-save'\n",
    "save_dir      = save_base_dir + \"/\" + MODEL\n",
    "\n",
    "os.makedirs(logs_base_dir, exist_ok=True)\n",
    "os.makedirs(log_dir,       exist_ok=True)\n",
    "os.makedirs(save_base_dir, exist_ok=True)\n",
    "os.makedirs(save_dir,      exist_ok=True)\n",
    "\n",
    "%load_ext tensorboard\n",
    "\n",
    "###########\n",
    "# ****** DEFINICION DE PARAMETROS *********\n",
    "\n",
    "NUM_WORDS   = 12071 + 2\n",
    "LEN_SENTS   = 153\n",
    "NUM_TAGS    = 30 + 2\n",
    "\n",
    "# ****** DEFINICION DE HIPERPARAMETROS *********\n",
    "_EPOCHS      = 60\n",
    "EMBED_DIM    = 300#350\n",
    "CHAR_EMBEDD  = 50\n",
    "_DROPOUT     = 0.5\n",
    "REC_DROPOUT  = 0.1\n",
    "LEARN_RATE   = 1e-3\n",
    "N_TRAIN      = int(1e4)\n",
    "EP_DECAY     = 1e-8\n",
    "BETA_1       = 0.9\n",
    "BETA_2       = 0.999\n",
    "_BACH_SIZE   = 500\n",
    "VAL_SPLIT    = 0.1\n",
    "STEPS_PER_EPOCH = N_TRAIN//_BACH_SIZE\n",
    "###\n",
    "#############\n",
    "\n",
    "\n",
    "gpus = tf.config.experimental.list_physical_devices('GPU')\n",
    "if gpus:\n",
    "    try:\n",
    "        # Currently, memory growth needs to be the same across GPUs\n",
    "        for gpu in gpus:\n",
    "            tf.config.experimental.set_memory_growth(gpu, True)\n",
    "            \n",
    "        logical_gpus = tf.config.experimental.list_logical_devices('GPU')\n",
    "        print(len(gpus), \"Physical GPUs,\", len(logical_gpus), \"Logical GPUs\")\n",
    "    except RuntimeError as e:\n",
    "        # Memory growth must be set before GPUs have been initialized\n",
    "        print(e)"
   ]
  },
  {
   "cell_type": "code",
   "execution_count": 2,
   "metadata": {},
   "outputs": [],
   "source": [
    "word2idx = np.load('vectors/word2index.npy', allow_pickle=True).item()\n",
    "tag2idx  = np.load('vectors/tag2index.npy', allow_pickle=True).item()\n",
    "idx2tag  = np.load('vectors/index2tag.npy', allow_pickle=True).item()"
   ]
  },
  {
   "cell_type": "code",
   "execution_count": 3,
   "metadata": {},
   "outputs": [
    {
     "name": "stdout",
     "output_type": "stream",
     "text": [
      "{'B_FAMILY': 2, 'I_FREQ': 3, 'I_DATE': 4, 'B_SMOKER_STATUS': 5, 'B_RADIOTHERAPY': 6, 'B_DATE': 7, 'B_FREQ': 8, 'I_STAGE': 9, 'I_SMOKER_STATUS': 10, 'I_CANCER_CONCEPT': 11, 'I_DRUG': 12, 'B_SURGERY': 13, 'I_IMPLICIT_DATE': 14, 'I_OCURRENCE_EVENT': 15, 'B_STAGE': 16, 'I_TNM': 17, 'I_SURGERY': 18, 'B_CHEMOTHERAPY': 19, 'I_METRIC': 20, 'B_METRIC': 21, 'B_CANCER_CONCEPT': 22, 'B_QUANTITY': 23, 'B_OCURRENCE_EVENT': 24, 'B_TNM': 25, 'I_FAMILY': 26, 'O': 27, 'B_DRUG': 28, 'B_IMPLICIT_DATE': 29, 'B_INTERVAL': 30, 'I_INTERVAL': 31, '-PAD-': 0, '-OOV-': 1}\n"
     ]
    }
   ],
   "source": [
    "print(tag2idx)"
   ]
  },
  {
   "cell_type": "code",
   "execution_count": 4,
   "metadata": {},
   "outputs": [
    {
     "name": "stdout",
     "output_type": "stream",
     "text": [
      "\n",
      "Loading the model NER ...\n",
      "\n",
      "Model loaded ...\n"
     ]
    }
   ],
   "source": [
    "#Loading the model\n",
    "print(\"\\nLoading the model NER ...\")\n",
    "model = tf.saved_model.load(save_dir + \"/\")\n",
    "print (\"\\nModel loaded ...\")"
   ]
  },
  {
   "cell_type": "code",
   "execution_count": 5,
   "metadata": {},
   "outputs": [],
   "source": [
    "#Note: Sentences must be previously tokenized (e.g NLTK or Spacy for spanish)\n",
    "#The model receives a tokenized sentence and returns a negation or speculation label for each token.\n",
    "#Next sentences have been proviously tokenized. \n",
    "#It is recommended to use  NLTK o r Spacy tokenizerfor spanish language.\n",
    "#NER = Named Entity Recognition\n",
    "NER_samples = [\n",
    "    \"CICLO 2 CARBOPLATINO / PACLITAXEL . \".split(),\n",
    "    \"En Agosto de 2015 ha recibido 3 ciclos de CISPLATINO / VINORELBINA buena tolerancia clinica .\".split(),\n",
    "    \"QT : CISPLATINO 75 mg / m2 DIA 1 IV + VINORELBINA 25 mg / m2 IV DIAS 1,8 - Adenocarcinoma pulmon lobulo superior derecho \".split(),\n",
    "    \"El dia 27 de junio iniciamos tratamiento con quimioterapia segun esquema CARBOPLATINO / PEMETREXED .\".split(),\n",
    "    \"CICLO 1 CARBOPLATINO AUC 5 - PEMETREXED 500 mg/m2 IV cada 21 dias..\".split(),\n",
    "    \"RT con dosis 50 Gy, se encuentra bien . \".split(),\n",
    "    \"Carcinoma escamoso de pulmón cT3 cN2 cM0 (al menos estadio IIIB de TNM 8ª ed .\".split(),\n",
    "    \"Diagnosticado en marzo de 2016 de Adenoca de pulmón cT2cN2cM1a .\".split(),\n",
    "    \"Ha sido diagnosticada de cancer de pulmon en marzo de 2019 .\".split(),\n",
    "    \"Inicia tratamiento con Cisplatino + Pemetrexed + Bevacizumab (5 ciclos administrados, ultimo en enero de 2014).\".split(),\n",
    "    \"Carcinoma escamoso de pulmón intervenido en marzo 2017 .\".split(),\n",
    "    \"En 2014, intervenido de carcinoma de pulmón pT2bN1cM0 realizandose nefrectomia derecha .\".split(),\n",
    "    \"Carcinoma microcitico de pulmon t4n2m0 en tto quimioterapico: carboplatino / etoposido .\".split(),\n",
    "    \"Carcinoma de pulmón SEGÚN PROTOCOLO DEL COLEGIO AMERICANO DE PATOLOGOS . \".split(),\n",
    "    \"Biopsia hepatica 07/05/2019 : bajo control ecografico se localiza masa homogenea tenuemente hipoecogenica de 4,8 x 2,9 x 2,3 cm en segmento ii y se procede a realizar bag ecoguiada de la misma . \".split()\n",
    "]\n",
    "    \n",
    "\n",
    "\n",
    "#NER_samples =[\"biopsia hepatica 07/05/2019 : bajo control ecografico se localiza masa homogenea tenuemente hipoecogenica de 4,8 x 2,9 x 2,3 cm en segmento ii y se procede a realizar bag ecoguiada de la misma . \".split()]"
   ]
  },
  {
   "cell_type": "code",
   "execution_count": 6,
   "metadata": {},
   "outputs": [
    {
     "name": "stdout",
     "output_type": "stream",
     "text": [
      "Negation: \n",
      " [[ 2926  3770  4158 ...     0     0     0]\n",
      " [ 1044  8808  2706 ...     0     0     0]\n",
      " [    1  4616  7093 ...     0     0     0]\n",
      " ...\n",
      " [10469   531  2706 ...     0     0     0]\n",
      " [10469  2706   682 ...     0     0     0]\n",
      " [ 8187  9923 11041 ...     0     0     0]]\n"
     ]
    }
   ],
   "source": [
    "NER_samples_X    = []\n",
    "\n",
    "for s1 in NER_samples:\n",
    "    s1_int = []\n",
    "    for w in s1:\n",
    "        try:\n",
    "            s1_int.append(word2idx[w.lower()])\n",
    "        except KeyError:\n",
    "            s1_int.append(word2idx['-OOV-'])\n",
    "    NER_samples_X.append(s1_int)\n",
    "\n",
    "NER_samples_X = pad_sequences(NER_samples_X, maxlen=LEN_SENTS, padding='post')\n",
    "\n",
    "print(\"Negation: \\n\", NER_samples_X)"
   ]
  },
  {
   "cell_type": "code",
   "execution_count": 7,
   "metadata": {},
   "outputs": [],
   "source": [
    "predictions1 = model(NER_samples_X).numpy()\n",
    "#print(\"Negation: \\n\", predictions1, predictions1.shape)"
   ]
  },
  {
   "cell_type": "code",
   "execution_count": 8,
   "metadata": {},
   "outputs": [
    {
     "name": "stdout",
     "output_type": "stream",
     "text": [
      "Sentence  [2926 3770 4158 4313 2954  735    0    0    0    0    0    0    0    0\n",
      "    0    0    0    0    0    0    0    0    0    0    0    0    0    0\n",
      "    0    0    0    0    0    0    0    0    0    0    0    0    0    0\n",
      "    0    0    0    0    0    0    0    0    0    0    0    0    0    0\n",
      "    0    0    0    0    0    0    0    0    0    0    0    0    0    0\n",
      "    0    0    0    0    0    0    0    0    0    0    0    0    0    0\n",
      "    0    0    0    0    0    0    0    0    0    0    0    0    0    0\n",
      "    0    0    0    0    0    0    0    0    0    0    0    0    0    0\n",
      "    0    0    0    0    0    0    0    0    0    0    0    0    0    0\n",
      "    0    0    0    0    0    0    0    0    0    0    0    0    0    0\n",
      "    0    0    0    0    0    0    0    0    0    0    0    0    0]\n",
      "Negation: \n",
      " ['B_METRIC', 'B_QUANTITY', 'B_DRUG', 'O', 'B_DRUG', 'O', '-PAD-', '-PAD-', '-PAD-', '-PAD-', '-PAD-', '-PAD-', '-PAD-', '-PAD-', '-PAD-', '-PAD-', '-PAD-', '-PAD-', '-PAD-', '-PAD-', '-PAD-', '-PAD-', '-PAD-', '-PAD-', '-PAD-', '-PAD-', '-PAD-', '-PAD-', '-PAD-', '-PAD-', '-PAD-', '-PAD-', '-PAD-', '-PAD-', '-PAD-', '-PAD-', '-PAD-', '-PAD-', '-PAD-', '-PAD-', '-PAD-', '-PAD-', '-PAD-', '-PAD-', '-PAD-', '-PAD-', '-PAD-', '-PAD-', '-PAD-', '-PAD-', '-PAD-', '-PAD-', '-PAD-', '-PAD-', '-PAD-', '-PAD-', '-PAD-', '-PAD-', '-PAD-', '-PAD-', '-PAD-', '-PAD-', '-PAD-', '-PAD-', '-PAD-', '-PAD-', '-PAD-', '-PAD-', '-PAD-', '-PAD-', '-PAD-', '-PAD-', '-PAD-', '-PAD-', '-PAD-', '-PAD-', '-PAD-', '-PAD-', '-PAD-', '-PAD-', '-PAD-', '-PAD-', '-PAD-', '-PAD-', '-PAD-', '-PAD-', '-PAD-', '-PAD-', '-PAD-', '-PAD-', '-PAD-', '-PAD-', '-PAD-', '-PAD-', '-PAD-', '-PAD-', '-PAD-', '-PAD-', '-PAD-', '-PAD-', '-PAD-', '-PAD-', '-PAD-', '-PAD-', '-PAD-', '-PAD-', '-PAD-', '-PAD-', '-PAD-', '-PAD-', '-PAD-', '-PAD-', '-PAD-', '-PAD-', '-PAD-', '-PAD-', '-PAD-', '-PAD-', '-PAD-', '-PAD-', '-PAD-', '-PAD-', '-PAD-', '-PAD-', '-PAD-', '-PAD-', '-PAD-', '-PAD-', '-PAD-', '-PAD-', '-PAD-', '-PAD-', '-PAD-', '-PAD-', '-PAD-', '-PAD-', '-PAD-', '-PAD-', '-PAD-', '-PAD-', '-PAD-', '-PAD-', '-PAD-', '-PAD-', '-PAD-', '-PAD-', '-PAD-', '-PAD-', '-PAD-', '-PAD-', '-PAD-', '-PAD-', '-PAD-']\n"
     ]
    }
   ],
   "source": [
    "#log_tokens1 = logits_to_tokens(np.argmax(predictions1, -1), idx2tag)\n",
    "log_tokens1 = logits_to_tokens(predictions1, idx2tag)\n",
    "print (\"Sentence \" , NER_samples_X[0])\n",
    "print(\"Negation: \\n\", log_tokens1[0])"
   ]
  },
  {
   "cell_type": "code",
   "execution_count": 9,
   "metadata": {
    "scrolled": true
   },
   "outputs": [
    {
     "data": {
      "text/html": [
       "<div style='overflow-x: auto; white-space: nowrap;'><table>\n",
       "<thead>\n",
       "<tr><th>CICLO   </th><th>2         </th><th>CARBOPLATINO  </th><th>/  </th><th>PACLITAXEL  </th><th>.  </th></tr>\n",
       "</thead>\n",
       "<tbody>\n",
       "<tr><td>B_METRIC</td><td>B_QUANTITY</td><td>B_DRUG        </td><td>O  </td><td>B_DRUG      </td><td>O  </td></tr>\n",
       "</tbody>\n",
       "</table></div>"
      ],
      "text/plain": [
       "<IPython.core.display.HTML object>"
      ]
     },
     "metadata": {},
     "output_type": "display_data"
    },
    {
     "data": {
      "text/html": [
       "<div style='overflow-x: auto; white-space: nowrap;'><table>\n",
       "<thead>\n",
       "<tr><th>En  </th><th>Agosto  </th><th>de    </th><th>2015  </th><th>ha  </th><th>recibido  </th><th>3         </th><th>ciclos  </th><th>de  </th><th>CISPLATINO  </th><th>/  </th><th>VINORELBINA  </th><th>buena  </th><th>tolerancia  </th><th>clinica  </th><th>.  </th></tr>\n",
       "</thead>\n",
       "<tbody>\n",
       "<tr><td>O   </td><td>B_DATE  </td><td>I_DATE</td><td>I_DATE</td><td>O   </td><td>O         </td><td>B_QUANTITY</td><td>B_METRIC</td><td>O   </td><td>B_DRUG      </td><td>O  </td><td>B_DRUG       </td><td>O      </td><td>O           </td><td>O        </td><td>O  </td></tr>\n",
       "</tbody>\n",
       "</table></div>"
      ],
      "text/plain": [
       "<IPython.core.display.HTML object>"
      ]
     },
     "metadata": {},
     "output_type": "display_data"
    },
    {
     "data": {
      "text/html": [
       "<div style='overflow-x: auto; white-space: nowrap;'><table>\n",
       "<thead>\n",
       "<tr><th>QT    </th><th>:  </th><th>CISPLATINO  </th><th>75        </th><th>mg      </th><th>/  </th><th>m2      </th><th>DIA     </th><th>1         </th><th>IV  </th><th>+  </th><th>VINORELBINA  </th><th>25        </th><th>mg      </th><th>/  </th><th>m2      </th><th>IV  </th><th>DIAS  </th><th>1,8       </th><th>-  </th><th>Adenocarcinoma  </th><th>pulmon          </th><th>lobulo          </th><th>superior        </th><th>derecho         </th></tr>\n",
       "</thead>\n",
       "<tbody>\n",
       "<tr><td>B_DATE</td><td>O  </td><td>B_DRUG      </td><td>B_QUANTITY</td><td>B_METRIC</td><td>O  </td><td>B_METRIC</td><td>B_METRIC</td><td>B_QUANTITY</td><td>O   </td><td>O  </td><td>B_DRUG       </td><td>B_QUANTITY</td><td>B_METRIC</td><td>O  </td><td>B_METRIC</td><td>O   </td><td>O     </td><td>B_QUANTITY</td><td>O  </td><td>B_CANCER_CONCEPT</td><td>I_CANCER_CONCEPT</td><td>I_CANCER_CONCEPT</td><td>I_CANCER_CONCEPT</td><td>I_CANCER_CONCEPT</td></tr>\n",
       "</tbody>\n",
       "</table></div>"
      ],
      "text/plain": [
       "<IPython.core.display.HTML object>"
      ]
     },
     "metadata": {},
     "output_type": "display_data"
    },
    {
     "data": {
      "text/html": [
       "<div style='overflow-x: auto; white-space: nowrap;'><table>\n",
       "<thead>\n",
       "<tr><th>El  </th><th>dia  </th><th>27    </th><th>de    </th><th>junio  </th><th>iniciamos        </th><th>tratamiento      </th><th>con  </th><th>quimioterapia  </th><th>segun  </th><th>esquema  </th><th>CARBOPLATINO  </th><th>/  </th><th>PEMETREXED  </th><th>.  </th></tr>\n",
       "</thead>\n",
       "<tbody>\n",
       "<tr><td>O   </td><td>O    </td><td>B_DATE</td><td>I_DATE</td><td>I_DATE </td><td>B_OCURRENCE_EVENT</td><td>I_OCURRENCE_EVENT</td><td>O    </td><td>B_CHEMOTHERAPY </td><td>O      </td><td>O        </td><td>B_DRUG        </td><td>O  </td><td>B_DRUG      </td><td>O  </td></tr>\n",
       "</tbody>\n",
       "</table></div>"
      ],
      "text/plain": [
       "<IPython.core.display.HTML object>"
      ]
     },
     "metadata": {},
     "output_type": "display_data"
    },
    {
     "data": {
      "text/html": [
       "<div style='overflow-x: auto; white-space: nowrap;'><table>\n",
       "<thead>\n",
       "<tr><th>CICLO   </th><th>1         </th><th>CARBOPLATINO  </th><th>AUC   </th><th>5         </th><th>-  </th><th>PEMETREXED  </th><th>500       </th><th>mg/m2   </th><th>IV  </th><th>cada  </th><th>21    </th><th>dias..  </th></tr>\n",
       "</thead>\n",
       "<tbody>\n",
       "<tr><td>B_METRIC</td><td>B_QUANTITY</td><td>B_DRUG        </td><td>B_DRUG</td><td>B_QUANTITY</td><td>O  </td><td>B_DRUG      </td><td>B_QUANTITY</td><td>B_METRIC</td><td>O   </td><td>B_FREQ</td><td>I_FREQ</td><td>-PAD-   </td></tr>\n",
       "</tbody>\n",
       "</table></div>"
      ],
      "text/plain": [
       "<IPython.core.display.HTML object>"
      ]
     },
     "metadata": {},
     "output_type": "display_data"
    },
    {
     "data": {
      "text/html": [
       "<div style='overflow-x: auto; white-space: nowrap;'><table>\n",
       "<thead>\n",
       "<tr><th>RT  </th><th>con  </th><th>dosis  </th><th>50        </th><th>Gy,     </th><th>se  </th><th>encuentra  </th><th>bien  </th><th>.  </th></tr>\n",
       "</thead>\n",
       "<tbody>\n",
       "<tr><td>O   </td><td>O    </td><td>O      </td><td>B_QUANTITY</td><td>B_METRIC</td><td>O   </td><td>O          </td><td>O     </td><td>O  </td></tr>\n",
       "</tbody>\n",
       "</table></div>"
      ],
      "text/plain": [
       "<IPython.core.display.HTML object>"
      ]
     },
     "metadata": {},
     "output_type": "display_data"
    },
    {
     "data": {
      "text/html": [
       "<div style='overflow-x: auto; white-space: nowrap;'><table>\n",
       "<thead>\n",
       "<tr><th>Carcinoma       </th><th>escamoso        </th><th>de              </th><th>pulmón          </th><th>cT3  </th><th>cN2  </th><th>cM0     </th><th>(al  </th><th>menos  </th><th>estadio  </th><th>IIIB   </th><th>de  </th><th>TNM  </th><th>8ª        </th><th>ed      </th><th>.  </th></tr>\n",
       "</thead>\n",
       "<tbody>\n",
       "<tr><td>B_CANCER_CONCEPT</td><td>I_CANCER_CONCEPT</td><td>I_CANCER_CONCEPT</td><td>I_CANCER_CONCEPT</td><td>B_TNM</td><td>I_TNM</td><td>B_METRIC</td><td>O    </td><td>O      </td><td>B_STAGE  </td><td>I_STAGE</td><td>O   </td><td>O    </td><td>B_QUANTITY</td><td>B_METRIC</td><td>O  </td></tr>\n",
       "</tbody>\n",
       "</table></div>"
      ],
      "text/plain": [
       "<IPython.core.display.HTML object>"
      ]
     },
     "metadata": {},
     "output_type": "display_data"
    },
    {
     "data": {
      "text/html": [
       "<div style='overflow-x: auto; white-space: nowrap;'><table>\n",
       "<thead>\n",
       "<tr><th>Diagnosticado    </th><th>en  </th><th>marzo  </th><th>de    </th><th>2016  </th><th>de  </th><th>Adenoca         </th><th>de              </th><th>pulmón          </th><th>cT2cN2cM1a  </th><th>.  </th></tr>\n",
       "</thead>\n",
       "<tbody>\n",
       "<tr><td>B_OCURRENCE_EVENT</td><td>O   </td><td>B_DATE </td><td>I_DATE</td><td>I_DATE</td><td>O   </td><td>B_CANCER_CONCEPT</td><td>I_CANCER_CONCEPT</td><td>I_CANCER_CONCEPT</td><td>B_TNM       </td><td>O  </td></tr>\n",
       "</tbody>\n",
       "</table></div>"
      ],
      "text/plain": [
       "<IPython.core.display.HTML object>"
      ]
     },
     "metadata": {},
     "output_type": "display_data"
    },
    {
     "data": {
      "text/html": [
       "<div style='overflow-x: auto; white-space: nowrap;'><table>\n",
       "<thead>\n",
       "<tr><th>Ha  </th><th>sido  </th><th>diagnosticada    </th><th>de  </th><th>cancer          </th><th>de              </th><th>pulmon          </th><th>en  </th><th>marzo  </th><th>de    </th><th>2019  </th><th>.  </th></tr>\n",
       "</thead>\n",
       "<tbody>\n",
       "<tr><td>O   </td><td>O     </td><td>B_OCURRENCE_EVENT</td><td>O   </td><td>B_CANCER_CONCEPT</td><td>I_CANCER_CONCEPT</td><td>I_CANCER_CONCEPT</td><td>O   </td><td>B_DATE </td><td>I_DATE</td><td>I_DATE</td><td>O  </td></tr>\n",
       "</tbody>\n",
       "</table></div>"
      ],
      "text/plain": [
       "<IPython.core.display.HTML object>"
      ]
     },
     "metadata": {},
     "output_type": "display_data"
    },
    {
     "data": {
      "text/html": [
       "<div style='overflow-x: auto; white-space: nowrap;'><table>\n",
       "<thead>\n",
       "<tr><th>Inicia           </th><th>tratamiento      </th><th>con  </th><th>Cisplatino  </th><th>+  </th><th>Pemetrexed  </th><th>+  </th><th>Bevacizumab  </th><th>(5  </th><th>ciclos  </th><th>administrados,  </th><th>ultimo           </th><th>en  </th><th>enero  </th><th>de    </th><th>2014).  </th></tr>\n",
       "</thead>\n",
       "<tbody>\n",
       "<tr><td>B_OCURRENCE_EVENT</td><td>I_OCURRENCE_EVENT</td><td>O    </td><td>B_DRUG      </td><td>O  </td><td>B_DRUG      </td><td>O  </td><td>B_DATE       </td><td>O   </td><td>B_METRIC</td><td>O               </td><td>B_OCURRENCE_EVENT</td><td>O   </td><td>B_DATE </td><td>I_DATE</td><td>-PAD-   </td></tr>\n",
       "</tbody>\n",
       "</table></div>"
      ],
      "text/plain": [
       "<IPython.core.display.HTML object>"
      ]
     },
     "metadata": {},
     "output_type": "display_data"
    },
    {
     "data": {
      "text/html": [
       "<div style='overflow-x: auto; white-space: nowrap;'><table>\n",
       "<thead>\n",
       "<tr><th>Carcinoma       </th><th>escamoso        </th><th>de              </th><th>pulmón          </th><th>intervenido      </th><th>en  </th><th>marzo  </th><th>2017  </th><th>.  </th></tr>\n",
       "</thead>\n",
       "<tbody>\n",
       "<tr><td>B_CANCER_CONCEPT</td><td>I_CANCER_CONCEPT</td><td>I_CANCER_CONCEPT</td><td>I_CANCER_CONCEPT</td><td>B_OCURRENCE_EVENT</td><td>O   </td><td>B_DATE </td><td>I_DATE</td><td>O  </td></tr>\n",
       "</tbody>\n",
       "</table></div>"
      ],
      "text/plain": [
       "<IPython.core.display.HTML object>"
      ]
     },
     "metadata": {},
     "output_type": "display_data"
    },
    {
     "data": {
      "text/html": [
       "<div style='overflow-x: auto; white-space: nowrap;'><table>\n",
       "<thead>\n",
       "<tr><th>En  </th><th>2014,  </th><th>intervenido      </th><th>de  </th><th>carcinoma       </th><th>de              </th><th>pulmón          </th><th>pT2bN1cM0  </th><th>realizandose  </th><th>nefrectomia  </th><th>derecha  </th><th>.  </th></tr>\n",
       "</thead>\n",
       "<tbody>\n",
       "<tr><td>O   </td><td>B_DATE </td><td>B_OCURRENCE_EVENT</td><td>O   </td><td>B_CANCER_CONCEPT</td><td>I_CANCER_CONCEPT</td><td>I_CANCER_CONCEPT</td><td>O          </td><td>O             </td><td>B_SURGERY    </td><td>I_SURGERY</td><td>O  </td></tr>\n",
       "</tbody>\n",
       "</table></div>"
      ],
      "text/plain": [
       "<IPython.core.display.HTML object>"
      ]
     },
     "metadata": {},
     "output_type": "display_data"
    },
    {
     "data": {
      "text/html": [
       "<div style='overflow-x: auto; white-space: nowrap;'><table>\n",
       "<thead>\n",
       "<tr><th>Carcinoma       </th><th>microcitico     </th><th>de              </th><th>pulmon          </th><th>t4n2m0  </th><th>en  </th><th>tto  </th><th>quimioterapico:  </th><th>carboplatino  </th><th>/  </th><th>etoposido  </th><th>.  </th></tr>\n",
       "</thead>\n",
       "<tbody>\n",
       "<tr><td>B_CANCER_CONCEPT</td><td>I_CANCER_CONCEPT</td><td>I_CANCER_CONCEPT</td><td>I_CANCER_CONCEPT</td><td>O       </td><td>O   </td><td>O    </td><td>O                </td><td>B_DRUG        </td><td>O  </td><td>B_DRUG     </td><td>O  </td></tr>\n",
       "</tbody>\n",
       "</table></div>"
      ],
      "text/plain": [
       "<IPython.core.display.HTML object>"
      ]
     },
     "metadata": {},
     "output_type": "display_data"
    },
    {
     "data": {
      "text/html": [
       "<div style='overflow-x: auto; white-space: nowrap;'><table>\n",
       "<thead>\n",
       "<tr><th>Carcinoma       </th><th>de              </th><th>pulmón          </th><th>SEGÚN  </th><th>PROTOCOLO  </th><th>DEL  </th><th>COLEGIO  </th><th>AMERICANO  </th><th>DE  </th><th>PATOLOGOS  </th><th>.  </th></tr>\n",
       "</thead>\n",
       "<tbody>\n",
       "<tr><td>B_CANCER_CONCEPT</td><td>I_CANCER_CONCEPT</td><td>I_CANCER_CONCEPT</td><td>O      </td><td>O          </td><td>O    </td><td>-PAD-    </td><td>O          </td><td>O   </td><td>B_DATE     </td><td>O  </td></tr>\n",
       "</tbody>\n",
       "</table></div>"
      ],
      "text/plain": [
       "<IPython.core.display.HTML object>"
      ]
     },
     "metadata": {},
     "output_type": "display_data"
    },
    {
     "data": {
      "text/html": [
       "<div style='overflow-x: auto; white-space: nowrap;'><table>\n",
       "<thead>\n",
       "<tr><th>Biopsia  </th><th>hepatica  </th><th>07/05/2019  </th><th>:  </th><th>bajo  </th><th>control  </th><th>ecografico  </th><th>se  </th><th>localiza  </th><th>masa  </th><th>homogenea  </th><th>tenuemente  </th><th>hipoecogenica  </th><th>de  </th><th>4,8       </th><th>x  </th><th>2,9       </th><th>x  </th><th>2,3       </th><th>cm      </th><th>en  </th><th>segmento  </th><th>ii  </th><th>y  </th><th>se  </th><th>procede  </th><th>a  </th><th>realizar  </th><th>bag  </th><th>ecoguiada  </th><th>de  </th><th>la  </th><th>misma  </th><th>.  </th></tr>\n",
       "</thead>\n",
       "<tbody>\n",
       "<tr><td>O        </td><td>O         </td><td>B_DATE      </td><td>O  </td><td>O     </td><td>O        </td><td>O           </td><td>O   </td><td>O         </td><td>O     </td><td>O          </td><td>O           </td><td>O              </td><td>O   </td><td>B_QUANTITY</td><td>O  </td><td>B_QUANTITY</td><td>O  </td><td>B_QUANTITY</td><td>B_METRIC</td><td>O   </td><td>O         </td><td>O   </td><td>O  </td><td>O   </td><td>O        </td><td>O  </td><td>O         </td><td>O    </td><td>O          </td><td>O   </td><td>O   </td><td>O      </td><td>O  </td></tr>\n",
       "</tbody>\n",
       "</table></div>"
      ],
      "text/plain": [
       "<IPython.core.display.HTML object>"
      ]
     },
     "metadata": {},
     "output_type": "display_data"
    }
   ],
   "source": [
    "for h, oracc in enumerate(NER_samples):\n",
    "    heads = oracc\n",
    "    body  = [log_tokens1[h][:len(oracc)]]\n",
    "    display(HTML(\"<div style='overflow-x: auto; white-space: nowrap;'>\" + \n",
    "                 tabulate(body, headers=heads, tablefmt=\"html\") + \n",
    "                 \"</div>\"))"
   ]
  },
  {
   "cell_type": "code",
   "execution_count": null,
   "metadata": {},
   "outputs": [],
   "source": []
  },
  {
   "cell_type": "code",
   "execution_count": null,
   "metadata": {},
   "outputs": [],
   "source": []
  },
  {
   "cell_type": "code",
   "execution_count": null,
   "metadata": {},
   "outputs": [],
   "source": []
  },
  {
   "cell_type": "code",
   "execution_count": null,
   "metadata": {},
   "outputs": [],
   "source": []
  },
  {
   "cell_type": "code",
   "execution_count": null,
   "metadata": {},
   "outputs": [],
   "source": []
  },
  {
   "cell_type": "code",
   "execution_count": null,
   "metadata": {},
   "outputs": [],
   "source": []
  },
  {
   "cell_type": "code",
   "execution_count": null,
   "metadata": {},
   "outputs": [],
   "source": []
  },
  {
   "cell_type": "code",
   "execution_count": null,
   "metadata": {},
   "outputs": [],
   "source": []
  },
  {
   "cell_type": "code",
   "execution_count": null,
   "metadata": {},
   "outputs": [],
   "source": []
  }
 ],
 "metadata": {
  "kernelspec": {
   "display_name": "Python 3",
   "language": "python",
   "name": "python3"
  },
  "language_info": {
   "codemirror_mode": {
    "name": "ipython",
    "version": 3
   },
   "file_extension": ".py",
   "mimetype": "text/x-python",
   "name": "python",
   "nbconvert_exporter": "python",
   "pygments_lexer": "ipython3",
   "version": "3.8.5"
  }
 },
 "nbformat": 4,
 "nbformat_minor": 5
}
