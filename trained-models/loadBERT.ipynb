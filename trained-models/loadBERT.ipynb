{
 "cells": [
  {
   "cell_type": "code",
   "execution_count": 1,
   "metadata": {},
   "outputs": [],
   "source": [
    "import sys\n",
    "#sys.path.append('../libs')\n",
    "sys.path.append('libs/')\n",
    "\n",
    "import datetime, os\n",
    "import random\n",
    "import time\n",
    "\n",
    "from tqdm import tqdm\n",
    "from tabulate import tabulate\n",
    "import numpy as np\n",
    "import tensorflow as tf\n",
    "from tensorflow import keras\n",
    "from tensorflow.keras.preprocessing.sequence import pad_sequences\n",
    "from utils import build_matrix_embeddings as bme, plot_model_performance, logits_to_tokens, report_to_df\n",
    "from transformers import (\n",
    "    TF2_WEIGHTS_NAME,\n",
    "    BertConfig,\n",
    "    BertTokenizer,\n",
    "    TFBertForTokenClassification,\n",
    "    create_optimizer)\n",
    "\n",
    "from IPython.core.display import display, HTML\n",
    "\n",
    "# ****** DEFINICION DE PARAMETROS *********\n",
    "NUM_WORDS   = 12071 + 2\n",
    "LEN_SENTS   = 153\n",
    "NUM_LABELS    = 30 + 3\n",
    "MAX_LEN = 203\n",
    "\n",
    "WORD_PAD_TOKEN = 0\n",
    "\n",
    "\n",
    "\n",
    "configuration = BertConfig()\n",
    "BERT_MODEL = \"bert-base-multilingual-cased\"\n",
    "\n",
    "\n",
    "MODEL         = 'BERT'\n",
    "logs_base_dir = \"./logs\"\n",
    "log_dir       = logs_base_dir + \"/\" + MODEL\n",
    "save_base_dir = './model-save'\n",
    "save_dir      = save_base_dir + \"/\" + MODEL\n",
    "\n",
    "\n",
    "le_dicti ={'B_CANCER_CONCEPT': 0, 'B_CHEMOTHERAPY': 1, 'B_DATE': 2, 'B_DRUG': 3, 'B_FAMILY': 4, \n",
    "         'B_FREQ': 5, 'B_IMPLICIT_DATE': 6, 'B_INTERVAL': 7, 'B_METRIC': 8, 'B_OCURRENCE_EVENT': 9, \n",
    "         'B_QUANTITY': 10, 'B_RADIOTHERAPY': 11, 'B_SMOKER_STATUS': 12, 'B_STAGE': 13, 'B_SURGERY': 14, \n",
    "        'B_TNM': 15, 'I_CANCER_CONCEPT': 16, 'I_DATE': 17, 'I_DRUG': 18, 'I_FAMILY': 19, \n",
    "        'I_FREQ': 20, 'I_IMPLICIT_DATE': 21, 'I_INTERVAL': 22, 'I_METRIC': 23,\n",
    "        'I_OCURRENCE_EVENT': 24, 'I_SMOKER_STATUS': 25, 'I_STAGE': 26, 'I_SURGERY': 27, \n",
    "        'I_TNM': 28, 'O': 29, '[CLS]': 30, '[SEP]': 31, '[PAD]': 32}\n",
    "\n",
    "\n",
    "\n",
    "\n",
    "le_dict = {}\n",
    "for key in le_dicti:\n",
    "    #print(key, '->', le_dict[key])\n",
    "    le_dict[le_dicti[key]] = key"
   ]
  },
  {
   "cell_type": "code",
   "execution_count": 2,
   "metadata": {},
   "outputs": [],
   "source": [
    "def convert_to_input(sentences, tags, in_ou_put):\n",
    "    input_id_list       = []\n",
    "    attention_mask_list = [] \n",
    "    token_type_id_list  = []\n",
    "    \n",
    "    if in_ou_put == 1:\n",
    "        label_id_list   = []\n",
    "    else:\n",
    "        label_id_list   = 0\n",
    "    \n",
    "    for x,y in tqdm(zip(sentences,tags),total=len(tags)):\n",
    "        tokens = []\n",
    "        \n",
    "        if in_ou_put == 1:\n",
    "            label_ids = []\n",
    "        \n",
    "        for word, label in zip(x, y):\n",
    "            word_tokens = tokenizer.tokenize(str(word))\n",
    "            tokens.extend(word_tokens)\n",
    "            # Use the real label id for the first token of the word, \n",
    "            # and padding ids for the remaining tokens\n",
    "            if in_ou_put == 1:\n",
    "                #label_ids.extend([label_map[label]] + [pad_token_label_id] * (len(word_tokens) - 1))\n",
    "                label_ids.extend([label] + [SEP_TOKEN] * (len(word_tokens) - 1))\n",
    "        \n",
    "        # special_tokens_count =  2\n",
    "        \n",
    "        #if len(tokens) > LEN_SENTS - special_tokens_count:\n",
    "        #    tokens = tokens[: (LEN_SENTS - special_tokens_count)]\n",
    "\n",
    "        #    if in_ou_put == 1:\n",
    "        #        label_ids = label_ids[: (LEN_SENTS - special_tokens_count)]\n",
    "        \n",
    "        if in_ou_put == 1:\n",
    "            #label_ids = [pad_token_label_id] + label_ids + [pad_token_label_id]\n",
    "            label_ids = [ESPECIAL_TOKEN] + label_ids + [ESPECIAL_TOKEN]\n",
    "        \n",
    "        inputs = tokenizer.encode_plus(tokens, add_special_tokens=True, max_length=MAX_LEN)\n",
    "        \n",
    "        input_ids       = inputs[\"input_ids\"]\n",
    "        token_type_ids  = inputs[\"token_type_ids\"]\n",
    "        attention_masks = inputs[\"attention_mask\"]\n",
    "        \n",
    "        #print(attention_masks)\n",
    "        #attention_masks = [17] + [1] * (len(input_ids)-2) + [17]\n",
    "        #print(attention_masks)\n",
    "        \n",
    "        attention_mask_list.append(attention_masks)\n",
    "        input_id_list.append(input_ids)\n",
    "        token_type_id_list.append(token_type_ids)\n",
    "        \n",
    "        if in_ou_put == 1:\n",
    "            label_id_list.append(label_ids)\n",
    "\n",
    "    input_id_list       = pad_sequences(maxlen=MAX_LEN, sequences=input_id_list,       dtype=\"int32\", padding=\"post\", value=WORD_PAD_TOKEN)\n",
    "    token_type_id_list  = pad_sequences(maxlen=MAX_LEN, sequences=token_type_id_list,  dtype=\"int32\", padding=\"post\")\n",
    "    attention_mask_list = pad_sequences(maxlen=MAX_LEN, sequences=attention_mask_list, dtype=\"int32\", padding=\"post\")\n",
    "    \n",
    "    if in_ou_put == 1:\n",
    "        label_id_list   = pad_sequences(maxlen=MAX_LEN, sequences=label_id_list, dtype=\"int32\", padding=\"post\", value=PAD_TOKEN)\n",
    "        #label_id_list   = [to_categorical(i, num_classes=num_labels, dtype =\"int32\") for i in label_id_list]\n",
    "        #label_id_list   = np.array(label_id_list)\n",
    "\n",
    "    return input_id_list, token_type_id_list, attention_mask_list, label_id_list"
   ]
  },
  {
   "cell_type": "code",
   "execution_count": 3,
   "metadata": {},
   "outputs": [],
   "source": [
    "MODEL_CLASSES = {\"bert\": (BertConfig, TFBertForTokenClassification, BertTokenizer)}\n",
    "config_class, model_class, tokenizer_class = MODEL_CLASSES['bert']\n",
    "config = config_class.from_pretrained(BERT_MODEL, num_labels=NUM_LABELS)\n",
    "\n",
    "tokenizer = tokenizer_class.from_pretrained(BERT_MODEL, do_lower_case=False)"
   ]
  },
  {
   "cell_type": "code",
   "execution_count": 4,
   "metadata": {},
   "outputs": [],
   "source": [
    "ner_samples = [\n",
    "    \"CICLO 2 CARBOPLATINO / PACLITAXEL. \".split(),\n",
    "    \"En Agosto de 2015 ha recibido 3 ciclos de CISPLATINO / VINORELBINA buena tolerancia clinica .\".split(),\n",
    "    \"QT : CISPLATINO 75 mg / m2 DIA 1 IV + VINORELBINA 25 mg / m2 IV DIAS 1,8 - Adenocarcinoma pulmon lobulo superior derecho \".split(),\n",
    "    \"El dia 27 de junio iniciamos tratamiento con quimioterapia segun esquema CARBOPLATINO / PEMETREXED .\".split(),\n",
    "    \"CICLO 1 CARBOPLATINO AUC 5 - PEMETREXED 500 mg/m2 IV cada 21 dias..\".split(),\n",
    "    \"RT con dosis 50 Gy, se encuentra bien. \".split(),\n",
    "    \"Carcinoma escamoso de pulmón cT3 cN2 cM0 (al menos estadio IIIB de TNM 8ª ed .\".split(),\n",
    "    \"Diagnosticado en marzo de 2016 de Adenoca de pulmón cT2cN2cM1a .\".split(),\n",
    "    \"Ha sido diagnosticada de cancer de pulmon en marzo de 2019 .\".split(),\n",
    "    \"Inicia tratamiento con Cisplatino + Pemetrexed + Bevacizumab (5 ciclos administrados, ultimo en enero de 2014).\".split(),\n",
    "    \"Carcinoma escamoso de pulmón intervenido en marzo 2017 .\".split(),\n",
    "    \"En 2014, intervenido de carcinoma de pulmón pT2bN1cM0 realizandose nefrectomia derecha .\".split(),\n",
    "    \"carcinoma microcitico de pulmon t4n2m0 en tto quimioterapico: carboplatino / etoposido .\".split(),\n",
    "    \"Colico renoureteral derecho con fracaso renal obstructivo en Julio de 2015. \".split(),\n",
    "    \"Paciente con diabetes mellitus. \".split()\n",
    "    ]"
   ]
  },
  {
   "cell_type": "code",
   "execution_count": 5,
   "metadata": {},
   "outputs": [
    {
     "name": "stderr",
     "output_type": "stream",
     "text": [
      "  0%|          | 0/15 [00:00<?, ?it/s]Truncation was not explicitly activated but `max_length` is provided a specific value, please use `truncation=True` to explicitly truncate examples to max length. Defaulting to 'longest_first' truncation strategy. If you encode pairs of sequences (GLUE-style) with the tokenizer you can select this strategy more precisely by providing a specific strategy to `truncation`.\n",
      "100%|██████████| 15/15 [00:00<00:00, 1389.52it/s]\n"
     ]
    }
   ],
   "source": [
    "dummy_y_train = []\n",
    "\n",
    "for snt in ner_samples:\n",
    "    senti = []\n",
    "    for wds in snt:\n",
    "        senti.append('-PAD-')\n",
    "    \n",
    "    dummy_y_train.append(senti)\n",
    "\n",
    "\n",
    "demo_input_ids_train, demo_token_ids_train, demo_attention_masks_train, label_ids_train = convert_to_input(ner_samples, dummy_y_train, 0)"
   ]
  },
  {
   "cell_type": "code",
   "execution_count": 6,
   "metadata": {},
   "outputs": [
    {
     "name": "stdout",
     "output_type": "stream",
     "text": [
      "BERT model loaded succesfully\n"
     ]
    }
   ],
   "source": [
    "new_model = tf.saved_model.load(save_dir)\n",
    "print(\"BERT model loaded succesfully\")\n"
   ]
  },
  {
   "cell_type": "code",
   "execution_count": 7,
   "metadata": {},
   "outputs": [],
   "source": [
    "demo_prediction = new_model([demo_input_ids_train, demo_token_ids_train, demo_attention_masks_train])\n",
    "\n",
    "demo_pred_tags = np.argmax(demo_prediction, -1)"
   ]
  },
  {
   "cell_type": "code",
   "execution_count": 8,
   "metadata": {},
   "outputs": [],
   "source": [
    "demo_y_pred = logits_to_tokens(demo_pred_tags, le_dict)"
   ]
  },
  {
   "cell_type": "code",
   "execution_count": 9,
   "metadata": {},
   "outputs": [
    {
     "name": "stdout",
     "output_type": "stream",
     "text": [
      "['CICLO', '2', 'CARBOPLATINO', '/', 'PACLITAXEL.']\n"
     ]
    },
    {
     "data": {
      "text/html": [
       "<div style='overflow-x: auto; white-space: nowrap;'><table>\n",
       "<thead>\n",
       "<tr><th>C       </th><th>##IC  </th><th>##L  </th><th>##O  </th><th>2         </th><th>CA    </th><th>##R  </th><th>##B  </th><th>##OP  </th><th>##LA  </th><th>##TI  </th><th>##NO  </th><th>/  </th><th>PA    </th><th>##CL  </th><th>##IT  </th><th>##AX  </th><th>##EL  </th><th>.  </th></tr>\n",
       "</thead>\n",
       "<tbody>\n",
       "<tr><td>B_METRIC</td><td>[SEP] </td><td>[SEP]</td><td>[SEP]</td><td>B_QUANTITY</td><td>B_DRUG</td><td>[SEP]</td><td>[SEP]</td><td>[SEP] </td><td>[SEP] </td><td>[SEP] </td><td>[SEP] </td><td>O  </td><td>B_DRUG</td><td>[SEP] </td><td>[SEP] </td><td>[SEP] </td><td>[SEP] </td><td>O  </td></tr>\n",
       "</tbody>\n",
       "</table></div>"
      ],
      "text/plain": [
       "<IPython.core.display.HTML object>"
      ]
     },
     "metadata": {},
     "output_type": "display_data"
    },
    {
     "name": "stdout",
     "output_type": "stream",
     "text": [
      "['En', 'Agosto', 'de', '2015', 'ha', 'recibido', '3', 'ciclos', 'de', 'CISPLATINO', '/', 'VINORELBINA', 'buena', 'tolerancia', 'clinica', '.']\n"
     ]
    },
    {
     "data": {
      "text/html": [
       "<div style='overflow-x: auto; white-space: nowrap;'><table>\n",
       "<thead>\n",
       "<tr><th>En  </th><th>Agosto  </th><th>de    </th><th>2015  </th><th>ha  </th><th>recibido  </th><th>3         </th><th>ciclo   </th><th>##s  </th><th>de  </th><th>C     </th><th>##IS  </th><th>##P  </th><th>##LA  </th><th>##TI  </th><th>##NO  </th><th>/  </th><th>VI    </th><th>##NO  </th><th>##RE  </th><th>##L  </th><th>##B  </th><th>##IN  </th><th>##A  </th><th>buena  </th><th>tol  </th><th>##eran  </th><th>##cia  </th><th>c  </th><th>##lini  </th><th>##ca  </th><th>.  </th></tr>\n",
       "</thead>\n",
       "<tbody>\n",
       "<tr><td>O   </td><td>B_DATE  </td><td>I_DATE</td><td>I_DATE</td><td>O   </td><td>O         </td><td>B_QUANTITY</td><td>B_METRIC</td><td>[SEP]</td><td>O   </td><td>B_DRUG</td><td>[SEP] </td><td>[SEP]</td><td>[SEP] </td><td>[SEP] </td><td>[SEP] </td><td>O  </td><td>B_DRUG</td><td>[SEP] </td><td>[SEP] </td><td>[SEP]</td><td>[SEP]</td><td>[SEP] </td><td>[SEP]</td><td>O      </td><td>O    </td><td>[SEP]   </td><td>[SEP]  </td><td>O  </td><td>[SEP]   </td><td>[SEP] </td><td>O  </td></tr>\n",
       "</tbody>\n",
       "</table></div>"
      ],
      "text/plain": [
       "<IPython.core.display.HTML object>"
      ]
     },
     "metadata": {},
     "output_type": "display_data"
    },
    {
     "name": "stdout",
     "output_type": "stream",
     "text": [
      "['QT', ':', 'CISPLATINO', '75', 'mg', '/', 'm2', 'DIA', '1', 'IV', '+', 'VINORELBINA', '25', 'mg', '/', 'm2', 'IV', 'DIAS', '1,8', '-', 'Adenocarcinoma', 'pulmon', 'lobulo', 'superior', 'derecho']\n"
     ]
    },
    {
     "data": {
      "text/html": [
       "<div style='overflow-x: auto; white-space: nowrap;'><table>\n",
       "<thead>\n",
       "<tr><th>Q             </th><th>##T  </th><th>:  </th><th>C     </th><th>##IS  </th><th>##P  </th><th>##LA  </th><th>##TI  </th><th>##NO  </th><th>75        </th><th>mg      </th><th>/  </th><th>m2      </th><th>DI      </th><th>##A  </th><th>1         </th><th>IV  </th><th>+  </th><th>VI    </th><th>##NO  </th><th>##RE  </th><th>##L  </th><th>##B  </th><th>##IN  </th><th>##A  </th><th>25        </th><th>mg      </th><th>/  </th><th>m2      </th><th>IV  </th><th>DI      </th><th>##AS  </th><th>1         </th><th>,    </th><th>8    </th><th>-  </th><th>Aden            </th><th>##oca  </th><th>##rci  </th><th>##noma  </th><th>pu              </th><th>##lm  </th><th>##on  </th><th>lo              </th><th>##bulo  </th><th>superior        </th><th>derecho         </th></tr>\n",
       "</thead>\n",
       "<tbody>\n",
       "<tr><td>B_CHEMOTHERAPY</td><td>[SEP]</td><td>O  </td><td>B_DRUG</td><td>[SEP] </td><td>[SEP]</td><td>[SEP] </td><td>[SEP] </td><td>[SEP] </td><td>B_QUANTITY</td><td>B_METRIC</td><td>O  </td><td>B_METRIC</td><td>B_METRIC</td><td>[SEP]</td><td>B_QUANTITY</td><td>O   </td><td>O  </td><td>B_DRUG</td><td>[SEP] </td><td>[SEP] </td><td>[SEP]</td><td>[SEP]</td><td>[SEP] </td><td>[SEP]</td><td>B_QUANTITY</td><td>B_METRIC</td><td>O  </td><td>B_METRIC</td><td>O   </td><td>B_METRIC</td><td>[SEP] </td><td>B_QUANTITY</td><td>[SEP]</td><td>[SEP]</td><td>O  </td><td>B_CANCER_CONCEPT</td><td>[SEP]  </td><td>[SEP]  </td><td>[SEP]   </td><td>I_CANCER_CONCEPT</td><td>[SEP] </td><td>[SEP] </td><td>I_CANCER_CONCEPT</td><td>[SEP]   </td><td>I_CANCER_CONCEPT</td><td>I_CANCER_CONCEPT</td></tr>\n",
       "</tbody>\n",
       "</table></div>"
      ],
      "text/plain": [
       "<IPython.core.display.HTML object>"
      ]
     },
     "metadata": {},
     "output_type": "display_data"
    },
    {
     "name": "stdout",
     "output_type": "stream",
     "text": [
      "['El', 'dia', '27', 'de', 'junio', 'iniciamos', 'tratamiento', 'con', 'quimioterapia', 'segun', 'esquema', 'CARBOPLATINO', '/', 'PEMETREXED', '.']\n"
     ]
    },
    {
     "data": {
      "text/html": [
       "<div style='overflow-x: auto; white-space: nowrap;'><table>\n",
       "<thead>\n",
       "<tr><th>El  </th><th>dia  </th><th>27    </th><th>de    </th><th>junio  </th><th>inicia           </th><th>##mos  </th><th>tratamiento      </th><th>con  </th><th>qui           </th><th>##mio  </th><th>##tera  </th><th>##pia  </th><th>segun  </th><th>esquema  </th><th>CA    </th><th>##R  </th><th>##B  </th><th>##OP  </th><th>##LA  </th><th>##TI  </th><th>##NO  </th><th>/  </th><th>PE    </th><th>##ME  </th><th>##T  </th><th>##RE  </th><th>##X  </th><th>##ED  </th><th>.  </th></tr>\n",
       "</thead>\n",
       "<tbody>\n",
       "<tr><td>O   </td><td>O    </td><td>B_DATE</td><td>I_DATE</td><td>I_DATE </td><td>B_OCURRENCE_EVENT</td><td>[SEP]  </td><td>I_OCURRENCE_EVENT</td><td>O    </td><td>B_CHEMOTHERAPY</td><td>[SEP]  </td><td>[SEP]   </td><td>[SEP]  </td><td>O      </td><td>O        </td><td>B_DRUG</td><td>[SEP]</td><td>[SEP]</td><td>[SEP] </td><td>[SEP] </td><td>[SEP] </td><td>[SEP] </td><td>O  </td><td>B_DRUG</td><td>[SEP] </td><td>[SEP]</td><td>[SEP] </td><td>[SEP]</td><td>[SEP] </td><td>O  </td></tr>\n",
       "</tbody>\n",
       "</table></div>"
      ],
      "text/plain": [
       "<IPython.core.display.HTML object>"
      ]
     },
     "metadata": {},
     "output_type": "display_data"
    },
    {
     "name": "stdout",
     "output_type": "stream",
     "text": [
      "['CICLO', '1', 'CARBOPLATINO', 'AUC', '5', '-', 'PEMETREXED', '500', 'mg/m2', 'IV', 'cada', '21', 'dias..']\n"
     ]
    },
    {
     "data": {
      "text/html": [
       "<div style='overflow-x: auto; white-space: nowrap;'><table>\n",
       "<thead>\n",
       "<tr><th>C       </th><th>##IC  </th><th>##L  </th><th>##O  </th><th>1         </th><th>CA    </th><th>##R  </th><th>##B  </th><th>##OP  </th><th>##LA  </th><th>##TI  </th><th>##NO  </th><th>AU      </th><th>##C  </th><th>5         </th><th>-  </th><th>PE    </th><th>##ME  </th><th>##T  </th><th>##RE  </th><th>##X  </th><th>##ED  </th><th>500       </th><th>mg      </th><th>/  </th><th>m2      </th><th>IV  </th><th>cada  </th><th>21    </th><th>dias  </th><th>.  </th><th>.  </th></tr>\n",
       "</thead>\n",
       "<tbody>\n",
       "<tr><td>B_METRIC</td><td>[SEP] </td><td>[SEP]</td><td>[SEP]</td><td>B_QUANTITY</td><td>B_DRUG</td><td>[SEP]</td><td>[SEP]</td><td>[SEP] </td><td>[SEP] </td><td>[SEP] </td><td>[SEP] </td><td>B_METRIC</td><td>[SEP]</td><td>B_QUANTITY</td><td>O  </td><td>B_DRUG</td><td>[SEP] </td><td>[SEP]</td><td>[SEP] </td><td>[SEP]</td><td>[SEP] </td><td>B_QUANTITY</td><td>B_METRIC</td><td>O  </td><td>B_METRIC</td><td>O   </td><td>B_FREQ</td><td>I_FREQ</td><td>I_FREQ</td><td>O  </td><td>O  </td></tr>\n",
       "</tbody>\n",
       "</table></div>"
      ],
      "text/plain": [
       "<IPython.core.display.HTML object>"
      ]
     },
     "metadata": {},
     "output_type": "display_data"
    },
    {
     "name": "stdout",
     "output_type": "stream",
     "text": [
      "['RT', 'con', 'dosis', '50', 'Gy,', 'se', 'encuentra', 'bien.']\n"
     ]
    },
    {
     "data": {
      "text/html": [
       "<div style='overflow-x: auto; white-space: nowrap;'><table>\n",
       "<thead>\n",
       "<tr><th>RT            </th><th>con  </th><th>dos  </th><th>##is  </th><th>50        </th><th>G       </th><th>##y  </th><th>,  </th><th>se  </th><th>encuentra  </th><th>bien  </th><th>.  </th></tr>\n",
       "</thead>\n",
       "<tbody>\n",
       "<tr><td>B_RADIOTHERAPY</td><td>O    </td><td>O    </td><td>[SEP] </td><td>B_QUANTITY</td><td>B_METRIC</td><td>[SEP]</td><td>O  </td><td>O   </td><td>O          </td><td>O     </td><td>O  </td></tr>\n",
       "</tbody>\n",
       "</table></div>"
      ],
      "text/plain": [
       "<IPython.core.display.HTML object>"
      ]
     },
     "metadata": {},
     "output_type": "display_data"
    },
    {
     "name": "stdout",
     "output_type": "stream",
     "text": [
      "['Carcinoma', 'escamoso', 'de', 'pulmón', 'cT3', 'cN2', 'cM0', '(al', 'menos', 'estadio', 'IIIB', 'de', 'TNM', '8ª', 'ed', '.']\n"
     ]
    },
    {
     "data": {
      "text/html": [
       "<div style='overflow-x: auto; white-space: nowrap;'><table>\n",
       "<thead>\n",
       "<tr><th>Car             </th><th>##cino  </th><th>##ma  </th><th>es              </th><th>##cam  </th><th>##oso  </th><th>de              </th><th>pu              </th><th>##lm  </th><th>##ón  </th><th>c    </th><th>##T  </th><th>##3  </th><th>c    </th><th>##N  </th><th>##2  </th><th>c    </th><th>##M  </th><th>##0  </th><th>(  </th><th>al  </th><th>menos  </th><th>estadio  </th><th>III    </th><th>##B  </th><th>de  </th><th>TN  </th><th>##M  </th><th>8         </th><th>##ª  </th><th>ed      </th><th>.  </th></tr>\n",
       "</thead>\n",
       "<tbody>\n",
       "<tr><td>B_CANCER_CONCEPT</td><td>[SEP]   </td><td>[SEP] </td><td>I_CANCER_CONCEPT</td><td>[SEP]  </td><td>[SEP]  </td><td>I_CANCER_CONCEPT</td><td>I_CANCER_CONCEPT</td><td>[SEP] </td><td>[SEP] </td><td>B_TNM</td><td>[SEP]</td><td>[SEP]</td><td>I_TNM</td><td>[SEP]</td><td>[SEP]</td><td>I_TNM</td><td>[SEP]</td><td>[SEP]</td><td>O  </td><td>O   </td><td>O      </td><td>B_STAGE  </td><td>I_STAGE</td><td>[SEP]</td><td>O   </td><td>O   </td><td>[SEP]</td><td>B_QUANTITY</td><td>[SEP]</td><td>B_METRIC</td><td>O  </td></tr>\n",
       "</tbody>\n",
       "</table></div>"
      ],
      "text/plain": [
       "<IPython.core.display.HTML object>"
      ]
     },
     "metadata": {},
     "output_type": "display_data"
    },
    {
     "name": "stdout",
     "output_type": "stream",
     "text": [
      "['Diagnosticado', 'en', 'marzo', 'de', '2016', 'de', 'Adenoca', 'de', 'pulmón', 'cT2cN2cM1a', '.']\n"
     ]
    },
    {
     "data": {
      "text/html": [
       "<div style='overflow-x: auto; white-space: nowrap;'><table>\n",
       "<thead>\n",
       "<tr><th>Dia              </th><th>##gno  </th><th>##stica  </th><th>##do  </th><th>en  </th><th>marzo  </th><th>de    </th><th>2016  </th><th>de  </th><th>Aden            </th><th>##oca  </th><th>de              </th><th>pu              </th><th>##lm  </th><th>##ón  </th><th>c    </th><th>##T  </th><th>##2  </th><th>##c  </th><th>##N  </th><th>##2  </th><th>##c  </th><th>##M  </th><th>##1  </th><th>##a  </th><th>.  </th></tr>\n",
       "</thead>\n",
       "<tbody>\n",
       "<tr><td>B_OCURRENCE_EVENT</td><td>[SEP]  </td><td>[SEP]    </td><td>[SEP] </td><td>O   </td><td>B_DATE </td><td>I_DATE</td><td>I_DATE</td><td>O   </td><td>B_CANCER_CONCEPT</td><td>[SEP]  </td><td>I_CANCER_CONCEPT</td><td>I_CANCER_CONCEPT</td><td>[SEP] </td><td>[SEP] </td><td>B_TNM</td><td>[SEP]</td><td>[SEP]</td><td>[SEP]</td><td>[SEP]</td><td>[SEP]</td><td>[SEP]</td><td>[SEP]</td><td>[SEP]</td><td>[SEP]</td><td>O  </td></tr>\n",
       "</tbody>\n",
       "</table></div>"
      ],
      "text/plain": [
       "<IPython.core.display.HTML object>"
      ]
     },
     "metadata": {},
     "output_type": "display_data"
    },
    {
     "name": "stdout",
     "output_type": "stream",
     "text": [
      "['Ha', 'sido', 'diagnosticada', 'de', 'cancer', 'de', 'pulmon', 'en', 'marzo', 'de', '2019', '.']\n"
     ]
    },
    {
     "data": {
      "text/html": [
       "<div style='overflow-x: auto; white-space: nowrap;'><table>\n",
       "<thead>\n",
       "<tr><th>Ha  </th><th>sido  </th><th>diagnostic       </th><th>##ada  </th><th>de  </th><th>cancer          </th><th>de              </th><th>pu              </th><th>##lm  </th><th>##on  </th><th>en  </th><th>marzo  </th><th>de    </th><th>2019  </th><th>.  </th></tr>\n",
       "</thead>\n",
       "<tbody>\n",
       "<tr><td>O   </td><td>O     </td><td>B_OCURRENCE_EVENT</td><td>[SEP]  </td><td>O   </td><td>B_CANCER_CONCEPT</td><td>I_CANCER_CONCEPT</td><td>I_CANCER_CONCEPT</td><td>[SEP] </td><td>[SEP] </td><td>O   </td><td>B_DATE </td><td>I_DATE</td><td>I_DATE</td><td>O  </td></tr>\n",
       "</tbody>\n",
       "</table></div>"
      ],
      "text/plain": [
       "<IPython.core.display.HTML object>"
      ]
     },
     "metadata": {},
     "output_type": "display_data"
    },
    {
     "name": "stdout",
     "output_type": "stream",
     "text": [
      "['Inicia', 'tratamiento', 'con', 'Cisplatino', '+', 'Pemetrexed', '+', 'Bevacizumab', '(5', 'ciclos', 'administrados,', 'ultimo', 'en', 'enero', 'de', '2014).']\n"
     ]
    },
    {
     "data": {
      "text/html": [
       "<div style='overflow-x: auto; white-space: nowrap;'><table>\n",
       "<thead>\n",
       "<tr><th>Ini              </th><th>##cia  </th><th>tratamiento      </th><th>con  </th><th>Ci    </th><th>##sp  </th><th>##lati  </th><th>##no  </th><th>+  </th><th>Pe    </th><th>##metre  </th><th>##xe  </th><th>##d  </th><th>+  </th><th>Be    </th><th>##vac  </th><th>##iz  </th><th>##uma  </th><th>##b  </th><th>(  </th><th>5         </th><th>ciclo   </th><th>##s  </th><th>ad  </th><th>##mini  </th><th>##strado  </th><th>##s  </th><th>,  </th><th>ultimo           </th><th>en  </th><th>enero  </th><th>de    </th><th>2014  </th><th>)  </th><th>.  </th></tr>\n",
       "</thead>\n",
       "<tbody>\n",
       "<tr><td>B_OCURRENCE_EVENT</td><td>[SEP]  </td><td>I_OCURRENCE_EVENT</td><td>O    </td><td>B_DRUG</td><td>[SEP] </td><td>[SEP]   </td><td>[SEP] </td><td>O  </td><td>B_DRUG</td><td>[SEP]    </td><td>[SEP] </td><td>[SEP]</td><td>O  </td><td>B_DRUG</td><td>[SEP]  </td><td>[SEP] </td><td>[SEP]  </td><td>[SEP]</td><td>O  </td><td>B_QUANTITY</td><td>B_METRIC</td><td>[SEP]</td><td>O   </td><td>[SEP]   </td><td>[SEP]     </td><td>[SEP]</td><td>O  </td><td>B_OCURRENCE_EVENT</td><td>O   </td><td>B_DATE </td><td>I_DATE</td><td>I_DATE</td><td>O  </td><td>O  </td></tr>\n",
       "</tbody>\n",
       "</table></div>"
      ],
      "text/plain": [
       "<IPython.core.display.HTML object>"
      ]
     },
     "metadata": {},
     "output_type": "display_data"
    },
    {
     "name": "stdout",
     "output_type": "stream",
     "text": [
      "['Carcinoma', 'escamoso', 'de', 'pulmón', 'intervenido', 'en', 'marzo', '2017', '.']\n"
     ]
    },
    {
     "data": {
      "text/html": [
       "<div style='overflow-x: auto; white-space: nowrap;'><table>\n",
       "<thead>\n",
       "<tr><th>Car             </th><th>##cino  </th><th>##ma  </th><th>es              </th><th>##cam  </th><th>##oso  </th><th>de              </th><th>pu              </th><th>##lm  </th><th>##ón  </th><th>inter            </th><th>##veni  </th><th>##do  </th><th>en  </th><th>marzo  </th><th>2017  </th><th>.  </th></tr>\n",
       "</thead>\n",
       "<tbody>\n",
       "<tr><td>B_CANCER_CONCEPT</td><td>[SEP]   </td><td>[SEP] </td><td>I_CANCER_CONCEPT</td><td>[SEP]  </td><td>[SEP]  </td><td>I_CANCER_CONCEPT</td><td>I_CANCER_CONCEPT</td><td>[SEP] </td><td>[SEP] </td><td>B_OCURRENCE_EVENT</td><td>[SEP]   </td><td>[SEP] </td><td>O   </td><td>B_DATE </td><td>I_DATE</td><td>O  </td></tr>\n",
       "</tbody>\n",
       "</table></div>"
      ],
      "text/plain": [
       "<IPython.core.display.HTML object>"
      ]
     },
     "metadata": {},
     "output_type": "display_data"
    },
    {
     "name": "stdout",
     "output_type": "stream",
     "text": [
      "['En', '2014,', 'intervenido', 'de', 'carcinoma', 'de', 'pulmón', 'pT2bN1cM0', 'realizandose', 'nefrectomia', 'derecha', '.']\n"
     ]
    },
    {
     "data": {
      "text/html": [
       "<div style='overflow-x: auto; white-space: nowrap;'><table>\n",
       "<thead>\n",
       "<tr><th>En  </th><th>2014  </th><th>,  </th><th>inter            </th><th>##veni  </th><th>##do  </th><th>de  </th><th>car             </th><th>##cino  </th><th>##ma  </th><th>de              </th><th>pu              </th><th>##lm  </th><th>##ón  </th><th>p    </th><th>##T  </th><th>##2  </th><th>##b  </th><th>##N  </th><th>##1  </th><th>##c  </th><th>##M  </th><th>##0  </th><th>realizando  </th><th>##se  </th><th>nef      </th><th>##rec  </th><th>##tomia  </th><th>derecha  </th><th>.  </th></tr>\n",
       "</thead>\n",
       "<tbody>\n",
       "<tr><td>O   </td><td>B_DATE</td><td>O  </td><td>B_OCURRENCE_EVENT</td><td>[SEP]   </td><td>[SEP] </td><td>O   </td><td>B_CANCER_CONCEPT</td><td>[SEP]   </td><td>[SEP] </td><td>I_CANCER_CONCEPT</td><td>I_CANCER_CONCEPT</td><td>[SEP] </td><td>[SEP] </td><td>B_TNM</td><td>[SEP]</td><td>[SEP]</td><td>[SEP]</td><td>[SEP]</td><td>[SEP]</td><td>[SEP]</td><td>[SEP]</td><td>[SEP]</td><td>O           </td><td>[SEP] </td><td>I_SURGERY</td><td>[SEP]  </td><td>[SEP]    </td><td>I_SURGERY</td><td>O  </td></tr>\n",
       "</tbody>\n",
       "</table></div>"
      ],
      "text/plain": [
       "<IPython.core.display.HTML object>"
      ]
     },
     "metadata": {},
     "output_type": "display_data"
    },
    {
     "name": "stdout",
     "output_type": "stream",
     "text": [
      "['carcinoma', 'microcitico', 'de', 'pulmon', 't4n2m0', 'en', 'tto', 'quimioterapico:', 'carboplatino', '/', 'etoposido', '.']\n"
     ]
    },
    {
     "data": {
      "text/html": [
       "<div style='overflow-x: auto; white-space: nowrap;'><table>\n",
       "<thead>\n",
       "<tr><th>car             </th><th>##cino  </th><th>##ma  </th><th>micro           </th><th>##citi  </th><th>##co  </th><th>de              </th><th>pu              </th><th>##lm  </th><th>##on  </th><th>t    </th><th>##4  </th><th>##n  </th><th>##2  </th><th>##m  </th><th>##0  </th><th>en  </th><th>t  </th><th>##to  </th><th>qui           </th><th>##mio  </th><th>##tera  </th><th>##pico  </th><th>:  </th><th>car   </th><th>##bo  </th><th>##pla  </th><th>##tino  </th><th>/  </th><th>et    </th><th>##op  </th><th>##osi  </th><th>##do  </th><th>.  </th></tr>\n",
       "</thead>\n",
       "<tbody>\n",
       "<tr><td>B_CANCER_CONCEPT</td><td>[SEP]   </td><td>[SEP] </td><td>I_CANCER_CONCEPT</td><td>[SEP]   </td><td>[SEP] </td><td>I_CANCER_CONCEPT</td><td>I_CANCER_CONCEPT</td><td>[SEP] </td><td>[SEP] </td><td>B_TNM</td><td>[SEP]</td><td>[SEP]</td><td>[SEP]</td><td>[SEP]</td><td>[SEP]</td><td>O   </td><td>O  </td><td>[SEP] </td><td>B_CHEMOTHERAPY</td><td>[SEP]  </td><td>[SEP]   </td><td>[SEP]   </td><td>O  </td><td>B_DRUG</td><td>[SEP] </td><td>[SEP]  </td><td>[SEP]   </td><td>O  </td><td>B_DRUG</td><td>[SEP] </td><td>[SEP]  </td><td>[SEP] </td><td>O  </td></tr>\n",
       "</tbody>\n",
       "</table></div>"
      ],
      "text/plain": [
       "<IPython.core.display.HTML object>"
      ]
     },
     "metadata": {},
     "output_type": "display_data"
    },
    {
     "name": "stdout",
     "output_type": "stream",
     "text": [
      "['Colico', 'renoureteral', 'derecho', 'con', 'fracaso', 'renal', 'obstructivo', 'en', 'Julio', 'de', '2015.']\n"
     ]
    },
    {
     "data": {
      "text/html": [
       "<div style='overflow-x: auto; white-space: nowrap;'><table>\n",
       "<thead>\n",
       "<tr><th>Col  </th><th>##ico  </th><th>ren  </th><th>##our  </th><th>##etera  </th><th>##l  </th><th>derecho  </th><th>con  </th><th>frac  </th><th>##aso  </th><th>ren  </th><th>##al  </th><th>ob  </th><th>##stru  </th><th>##ctivo  </th><th>en  </th><th>Julio  </th><th>de    </th><th>2015  </th><th>.  </th></tr>\n",
       "</thead>\n",
       "<tbody>\n",
       "<tr><td>O    </td><td>[SEP]  </td><td>O    </td><td>[SEP]  </td><td>[SEP]    </td><td>[SEP]</td><td>O        </td><td>O    </td><td>O     </td><td>[SEP]  </td><td>O    </td><td>[SEP] </td><td>O   </td><td>[SEP]   </td><td>[SEP]    </td><td>O   </td><td>B_DATE </td><td>I_DATE</td><td>I_DATE</td><td>O  </td></tr>\n",
       "</tbody>\n",
       "</table></div>"
      ],
      "text/plain": [
       "<IPython.core.display.HTML object>"
      ]
     },
     "metadata": {},
     "output_type": "display_data"
    },
    {
     "name": "stdout",
     "output_type": "stream",
     "text": [
      "['Paciente', 'con', 'diabetes', 'mellitus.']\n"
     ]
    },
    {
     "data": {
      "text/html": [
       "<div style='overflow-x: auto; white-space: nowrap;'><table>\n",
       "<thead>\n",
       "<tr><th>Pac  </th><th>##iente  </th><th>con  </th><th>diabetes  </th><th>me  </th><th>##lli  </th><th>##tus  </th><th>.  </th></tr>\n",
       "</thead>\n",
       "<tbody>\n",
       "<tr><td>O    </td><td>[SEP]    </td><td>O    </td><td>O         </td><td>O   </td><td>[SEP]  </td><td>[SEP]  </td><td>O  </td></tr>\n",
       "</tbody>\n",
       "</table></div>"
      ],
      "text/plain": [
       "<IPython.core.display.HTML object>"
      ]
     },
     "metadata": {},
     "output_type": "display_data"
    }
   ],
   "source": [
    "for h, oracc in enumerate(ner_samples):\n",
    "    #heads = oracc\n",
    "    #if h == 0:\n",
    "    tokensito = []\n",
    "    for wordi in oracc:\n",
    "        wordi_tokens = tokenizer.tokenize(str(wordi))\n",
    "        tokensito.extend(wordi_tokens)\n",
    "\n",
    "    print(oracc)\n",
    "    #print(tokensito)\n",
    "    #print(demo_y_pred[h])\n",
    "    heads = tokensito\n",
    "    body  = [demo_y_pred[h][1:len(tokensito)+1]]\n",
    "    display(HTML(\"<div style='overflow-x: auto; white-space: nowrap;'>\" + \n",
    "                 tabulate(body, headers=heads, tablefmt=\"html\") + \n",
    "                 \"</div>\"))"
   ]
  },
  {
   "cell_type": "code",
   "execution_count": null,
   "metadata": {},
   "outputs": [],
   "source": []
  }
 ],
 "metadata": {
  "kernelspec": {
   "display_name": "Python 3",
   "language": "python",
   "name": "python3"
  },
  "language_info": {
   "codemirror_mode": {
    "name": "ipython",
    "version": 3
   },
   "file_extension": ".py",
   "mimetype": "text/x-python",
   "name": "python",
   "nbconvert_exporter": "python",
   "pygments_lexer": "ipython3",
   "version": "3.8.5"
  }
 },
 "nbformat": 4,
 "nbformat_minor": 5
}
