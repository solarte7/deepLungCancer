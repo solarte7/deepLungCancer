{
 "cells": [
  {
   "cell_type": "code",
   "execution_count": null,
   "id": "a1746d67",
   "metadata": {},
   "outputs": [],
   "source": [
    "##Load and Using lung Cancer BERT models "
   ]
  },
  {
   "cell_type": "code",
   "execution_count": 1,
   "id": "5810aa96",
   "metadata": {},
   "outputs": [],
   "source": [
    "import sys\n",
    "#sys.path.append('../libs')\n",
    "sys.path.append('libs/')\n",
    "\n",
    "import datetime, os\n",
    "import random\n",
    "import time\n",
    "\n",
    "from tqdm import tqdm\n",
    "from tabulate import tabulate\n",
    "import numpy as np\n",
    "import tensorflow as tf\n",
    "from tensorflow import keras\n",
    "from tensorflow.keras.preprocessing.sequence import pad_sequences\n",
    "from utils import build_matrix_embeddings as bme, plot_model_performance, logits_to_tokens, report_to_df\n",
    "from transformers import (\n",
    "    TF2_WEIGHTS_NAME,\n",
    "    BertConfig,\n",
    "    BertTokenizer,\n",
    "    TFBertForTokenClassification,\n",
    "    create_optimizer)\n",
    "\n",
    "from IPython.core.display import display, HTML\n",
    "\n",
    "# ****** DEFINICION DE PARAMETROS *********\n",
    "NUM_WORDS    = 14485 + 2 # 13705\n",
    "LEN_SENTS    = 306\n",
    "MAX_LEN      = 596\n",
    "NUM_TAGS     = 37 + 3\n",
    "NUM_LABELS   = 37 + 3\n",
    "\n",
    "# ****** DEFINICION DE HIPERPARAMETROS *********\n",
    "_EPOCHS      = 15\n",
    "_DROPOUT     = 0.4\n",
    "_BACH_SIZE   = 64\n",
    "VAL_SPLIT    = 0.3\n",
    "NUM_FOLDS    = 10\n",
    "\n",
    "\n",
    "ESPECIAL_TOKEN = 37\n",
    "SEP_TOKEN      = 38\n",
    "PAD_TOKEN      = 39\n",
    "WORD_PAD_TOKEN = 0\n",
    "\n",
    "configuration = BertConfig()\n",
    "BERT_MODEL = \"bert-base-multilingual-cased\"\n",
    "\n",
    "logs_base_dir = \"./logs\"\n",
    "log_dir       = logs_base_dir + \"/\"\n",
    "save_base_dir = './model'\n",
    "save_dir      = save_base_dir + \"/\"\n",
    "\n",
    "\n",
    "le_dicti = {'B-CANCER_CONCEPT': 0, 'B-CHEMOTHERAPY': 1, 'B-CLINICAL_SERVICE': 2, 'B-COMORBIDITY': 3,\n",
    "            'B-DATE': 4, 'B-DRUG': 5, 'B-FAMILY': 6, 'B-FREQ': 7, 'B-IMPLICIT_DATE': 8, 'B-METRIC': 9, \n",
    "            'B-MUTATION': 10, 'B-MUTATION_STATUS': 11, 'B-OCURRENCE_EVENT': 12, 'B-QUANTITY': 13, \n",
    "            'B-RADIOTHERAPY': 14, 'B-SMOKER_STATUS': 15, 'B-STAGE': 16, 'B-SURGERY': 17, 'B-TNM': 18, \n",
    "            'I-CANCER_CONCEPT': 19, 'I-CLINICAL_SERVICE': 20, 'I-COMORBIDITY': 21, 'I-DATE': 22, \n",
    "            'I-DRUG': 23, 'I-FAMILY': 24, 'I-FREQ': 25, 'I-IMPLICIT_DATE': 26, 'I-METRIC': 27, \n",
    "            'I-MUTATION': 28, 'I-MUTATION_STATUS': 29, 'I-OCURRENCE_EVENT': 30, 'I-QUANTITY': 31, \n",
    "            'I-SMOKER_STATUS': 32, 'I-STAGE': 33, 'I-SURGERY': 34, 'I-TNM': 35, 'O': 36, '[CLS]': 37, \n",
    "            '[SEP]': 38, '[PAD]': 39}\n",
    "\n",
    "le_dict = {}\n",
    "for key in le_dicti:\n",
    "    #print(key, '->', le_dict[key])\n",
    "    le_dict[le_dicti[key]] = key\n",
    "    \n",
    "    \n",
    "\n"
   ]
  },
  {
   "cell_type": "code",
   "execution_count": 2,
   "id": "00d0e30b",
   "metadata": {},
   "outputs": [],
   "source": [
    "MODEL_CLASSES = {\"bert\": (BertConfig, TFBertForTokenClassification, BertTokenizer)}\n",
    "config_class, model_class, tokenizer_class = MODEL_CLASSES['bert']\n",
    "config = config_class.from_pretrained(BERT_MODEL, num_labels=NUM_LABELS)\n",
    "\n",
    "tokenizer = tokenizer_class.from_pretrained(BERT_MODEL, do_lower_case=False)"
   ]
  },
  {
   "cell_type": "code",
   "execution_count": 3,
   "id": "429a3934",
   "metadata": {},
   "outputs": [],
   "source": [
    "il_tokens = []\n",
    "\n",
    "def convert_to_input(sentences, tags, in_ou_put, testy):\n",
    "    input_id_list       = []\n",
    "    attention_mask_list = [] \n",
    "    token_type_id_list  = []\n",
    "    len_tokens          = []\n",
    "    len_sentences       = []\n",
    "    \n",
    "    \n",
    "    if in_ou_put == 1:\n",
    "        label_id_list   = []\n",
    "    else:\n",
    "        label_id_list   = 0\n",
    "    \n",
    "    for x,y in tqdm(zip(sentences,tags),total=len(tags)):\n",
    "        tokens = []\n",
    "        \n",
    "        if in_ou_put == 1:\n",
    "            label_ids = []\n",
    "        \n",
    "        for word, label in zip(x, y):\n",
    "            word_tokens = tokenizer.tokenize(str(word))\n",
    "            tokens.extend(word_tokens)\n",
    "            # Use the real label id for the first token of the word, \n",
    "            # and padding ids for the remaining tokens\n",
    "            if in_ou_put == 1:\n",
    "                label_ids.extend([label] + [SEP_TOKEN] * (len(word_tokens) - 1))\n",
    "        \n",
    "        if testy == 1:\n",
    "            il_tokens.append(['[CLS]'] + tokens + (['[PAD]'] * (595 - len(tokens))))\n",
    "        \n",
    "        if in_ou_put == 1:\n",
    "            label_ids = [ESPECIAL_TOKEN] + label_ids + [ESPECIAL_TOKEN]\n",
    "        \n",
    "        if in_ou_put == 1:\n",
    "            len_tokens.append(len(label_ids))\n",
    "            len_sentences.append(len(x))\n",
    "        \n",
    "        inputs = tokenizer.encode_plus(tokens, add_special_tokens=True, max_length=MAX_LEN)\n",
    "        \n",
    "        input_ids       = inputs[\"input_ids\"]\n",
    "        token_type_ids  = inputs[\"token_type_ids\"]\n",
    "        attention_masks = inputs[\"attention_mask\"]\n",
    "        \n",
    "        attention_mask_list.append(attention_masks)\n",
    "        input_id_list.append(input_ids)\n",
    "        token_type_id_list.append(token_type_ids)\n",
    "        \n",
    "        if in_ou_put == 1:\n",
    "            label_id_list.append(label_ids)\n",
    "\n",
    "    input_id_list       = pad_sequences(maxlen=MAX_LEN, sequences=input_id_list,       dtype=\"int32\", padding=\"post\", value=WORD_PAD_TOKEN)\n",
    "    token_type_id_list  = pad_sequences(maxlen=MAX_LEN, sequences=token_type_id_list,  dtype=\"int32\", padding=\"post\")\n",
    "    attention_mask_list = pad_sequences(maxlen=MAX_LEN, sequences=attention_mask_list, dtype=\"int32\", padding=\"post\")\n",
    "    \n",
    "    if in_ou_put == 1:\n",
    "        print(\">>> :\", max(len_tokens))\n",
    "        print(\">>>> :\", max(len_sentences))\n",
    "    \n",
    "    if in_ou_put == 1:\n",
    "        label_id_list   = pad_sequences(maxlen=MAX_LEN, sequences=label_id_list, dtype=\"int32\", padding=\"post\", value=PAD_TOKEN)\n",
    "\n",
    "\n",
    "    return input_id_list, token_type_id_list, attention_mask_list, label_id_list"
   ]
  },
  {
   "cell_type": "code",
   "execution_count": 4,
   "id": "971f7614",
   "metadata": {},
   "outputs": [],
   "source": [
    "ner_samples = [\n",
    "    \"CICLO 2 CARBOPLATINO / PACLITAXEL. \".split(),\n",
    "    \"En Agosto de 2015 ha recibido 3 ciclos de CISPLATINO / VINORELBINA buena tolerancia clinica .\".split(),\n",
    "    \"QT : CISPLATINO 75 mg / m2 DIA 1 IV + VINORELBINA 25 mg / m2 IV DIAS 1,8 - Adenocarcinoma pulmon lobulo superior derecho \".split(),\n",
    "    \"El dia 27 de junio iniciamos tratamiento con quimioterapia segun esquema CARBOPLATINO / PEMETREXED .\".split(),\n",
    "    \"CICLO 1 CARBOPLATINO AUC 5 - PEMETREXED 500 mg/m2 IV cada 21 dias..\".split(),\n",
    "    \"RT con dosis 50 Gy, se encuentra bien. \".split(),\n",
    "    \"Carcinoma escamoso de pulmón cT3 cN2 cM0 (al menos estadio IIIB de TNM 8ª ed .\".split(),\n",
    "    \"Diagnosticado en marzo de 2016 de Adenoca de pulmón cT2cN2cM1a .\".split(),\n",
    "    \"Ha sido diagnosticada de cancer de pulmon en marzo de 2019 .\".split(),\n",
    "    \"Inicia tratamiento con Cisplatino + Pemetrexed + Bevacizumab (5 ciclos administrados, ultimo en enero de 2014).\".split(),\n",
    "    \"Carcinoma escamoso de pulmón intervenido en marzo 2017 .\".split(),\n",
    "    \"En 2014, intervenido de carcinoma de pulmón pT2bN1cM0 realizandose nefrectomia derecha .\".split(),\n",
    "    \"carcinoma microcitico de pulmon t4n2m0 en tto quimioterapico: carboplatino / etoposido .\".split(),\n",
    "    \"Colico renoureteral derecho con fracaso renal obstructivo en Julio de 2015. \".split(),\n",
    "    \"No HTA, no DM, no DL . \".split(),\n",
    "    \"No dislipemia . \".split(),\n",
    "     \"Biopsia hepatica 07/05/2019 : bajo control ecografico se localiza masa homogenea tenuemente hipoecogenica de 4,8 x 2,9 x 2,3 cm en segmento ii y se procede a realizar bag ecoguiada de la misma . \".split()\n",
    "    ]"
   ]
  },
  {
   "cell_type": "code",
   "execution_count": 5,
   "id": "7f82092d",
   "metadata": {},
   "outputs": [
    {
     "name": "stderr",
     "output_type": "stream",
     "text": [
      "  0%|          | 0/17 [00:00<?, ?it/s]Truncation was not explicitly activated but `max_length` is provided a specific value, please use `truncation=True` to explicitly truncate examples to max length. Defaulting to 'longest_first' truncation strategy. If you encode pairs of sequences (GLUE-style) with the tokenizer you can select this strategy more precisely by providing a specific strategy to `truncation`.\n",
      "100%|██████████| 17/17 [00:00<00:00, 1995.33it/s]\n"
     ]
    }
   ],
   "source": [
    "dummy_y_train = []\n",
    "\n",
    "for snt in ner_samples:\n",
    "    senti = []\n",
    "    for wds in snt:\n",
    "        senti.append('-PAD-')\n",
    "    \n",
    "    dummy_y_train.append(senti)\n",
    "\n",
    "demo_input_ids_train, demo_token_ids_train, demo_attention_masks_train, label_ids_train = convert_to_input(ner_samples, dummy_y_train, 0, 0)"
   ]
  },
  {
   "cell_type": "code",
   "execution_count": 6,
   "id": "17f6d91f",
   "metadata": {},
   "outputs": [
    {
     "name": "stdout",
     "output_type": "stream",
     "text": [
      "596 596 596 0\n"
     ]
    }
   ],
   "source": [
    "print (len(demo_input_ids_train[0]), len(demo_token_ids_train[0]), len(demo_attention_masks_train[0]),label_ids_train )\n"
   ]
  },
  {
   "cell_type": "code",
   "execution_count": 7,
   "id": "0df13317",
   "metadata": {},
   "outputs": [
    {
     "name": "stdout",
     "output_type": "stream",
     "text": [
      "BERT model loaded succesfully\n"
     ]
    }
   ],
   "source": [
    "new_model = tf.saved_model.load(save_dir)\n",
    "#new_model = tf.keras.models.load_model(save_dir)\n",
    "print(\"BERT model loaded succesfully\")\n"
   ]
  },
  {
   "cell_type": "code",
   "execution_count": 8,
   "id": "fe8aad16",
   "metadata": {},
   "outputs": [],
   "source": [
    "demo_prediction = new_model([demo_input_ids_train, demo_token_ids_train, demo_attention_masks_train])"
   ]
  },
  {
   "cell_type": "code",
   "execution_count": 9,
   "id": "e212f404",
   "metadata": {},
   "outputs": [],
   "source": [
    "demo_pred_tags = np.argmax(demo_prediction, -1)"
   ]
  },
  {
   "cell_type": "code",
   "execution_count": 10,
   "id": "45ae7481",
   "metadata": {},
   "outputs": [],
   "source": [
    "demo_y_pred = logits_to_tokens(demo_pred_tags, le_dict)"
   ]
  },
  {
   "cell_type": "code",
   "execution_count": 11,
   "id": "f0026e34",
   "metadata": {},
   "outputs": [
    {
     "name": "stdout",
     "output_type": "stream",
     "text": [
      "['CICLO', '2', 'CARBOPLATINO', '/', 'PACLITAXEL.']\n"
     ]
    },
    {
     "data": {
      "text/html": [
       "<div style='overflow-x: auto; white-space: nowrap;'><table>\n",
       "<thead>\n",
       "<tr><th>C       </th><th>##IC  </th><th>##L  </th><th>##O  </th><th>2         </th><th>CA    </th><th>##R  </th><th>##B  </th><th>##OP  </th><th>##LA  </th><th>##TI  </th><th>##NO  </th><th>/  </th><th>PA    </th><th>##CL  </th><th>##IT  </th><th>##AX  </th><th>##EL  </th><th>.  </th></tr>\n",
       "</thead>\n",
       "<tbody>\n",
       "<tr><td>B-METRIC</td><td>[SEP] </td><td>[SEP]</td><td>[SEP]</td><td>B-QUANTITY</td><td>B-DRUG</td><td>[SEP]</td><td>[SEP]</td><td>[SEP] </td><td>[SEP] </td><td>[SEP] </td><td>[SEP] </td><td>O  </td><td>B-DRUG</td><td>[SEP] </td><td>[SEP] </td><td>[SEP] </td><td>[SEP] </td><td>O  </td></tr>\n",
       "</tbody>\n",
       "</table></div>"
      ],
      "text/plain": [
       "<IPython.core.display.HTML object>"
      ]
     },
     "metadata": {},
     "output_type": "display_data"
    },
    {
     "name": "stdout",
     "output_type": "stream",
     "text": [
      "['En', 'Agosto', 'de', '2015', 'ha', 'recibido', '3', 'ciclos', 'de', 'CISPLATINO', '/', 'VINORELBINA', 'buena', 'tolerancia', 'clinica', '.']\n"
     ]
    },
    {
     "data": {
      "text/html": [
       "<div style='overflow-x: auto; white-space: nowrap;'><table>\n",
       "<thead>\n",
       "<tr><th>En  </th><th>Agosto  </th><th>de    </th><th>2015  </th><th>ha  </th><th>recibido  </th><th>3         </th><th>ciclo   </th><th>##s  </th><th>de  </th><th>C     </th><th>##IS  </th><th>##P  </th><th>##LA  </th><th>##TI  </th><th>##NO  </th><th>/  </th><th>VI    </th><th>##NO  </th><th>##RE  </th><th>##L  </th><th>##B  </th><th>##IN  </th><th>##A  </th><th>buena  </th><th>tol  </th><th>##eran  </th><th>##cia  </th><th>c  </th><th>##lini  </th><th>##ca  </th><th>.  </th></tr>\n",
       "</thead>\n",
       "<tbody>\n",
       "<tr><td>O   </td><td>B-DATE  </td><td>I-DATE</td><td>I-DATE</td><td>O   </td><td>O         </td><td>B-QUANTITY</td><td>B-METRIC</td><td>[SEP]</td><td>O   </td><td>B-DRUG</td><td>[SEP] </td><td>[SEP]</td><td>[SEP] </td><td>[SEP] </td><td>[SEP] </td><td>O  </td><td>B-DRUG</td><td>[SEP] </td><td>[SEP] </td><td>[SEP]</td><td>[SEP]</td><td>[SEP] </td><td>[SEP]</td><td>O      </td><td>O    </td><td>[SEP]   </td><td>[SEP]  </td><td>O  </td><td>[SEP]   </td><td>[SEP] </td><td>O  </td></tr>\n",
       "</tbody>\n",
       "</table></div>"
      ],
      "text/plain": [
       "<IPython.core.display.HTML object>"
      ]
     },
     "metadata": {},
     "output_type": "display_data"
    },
    {
     "name": "stdout",
     "output_type": "stream",
     "text": [
      "['QT', ':', 'CISPLATINO', '75', 'mg', '/', 'm2', 'DIA', '1', 'IV', '+', 'VINORELBINA', '25', 'mg', '/', 'm2', 'IV', 'DIAS', '1,8', '-', 'Adenocarcinoma', 'pulmon', 'lobulo', 'superior', 'derecho']\n"
     ]
    },
    {
     "data": {
      "text/html": [
       "<div style='overflow-x: auto; white-space: nowrap;'><table>\n",
       "<thead>\n",
       "<tr><th>Q             </th><th>##T  </th><th>:  </th><th>C     </th><th>##IS  </th><th>##P  </th><th>##LA  </th><th>##TI  </th><th>##NO  </th><th>75        </th><th>mg      </th><th>/       </th><th>m2      </th><th>DI      </th><th>##A  </th><th>1         </th><th>IV  </th><th>+  </th><th>VI    </th><th>##NO  </th><th>##RE  </th><th>##L  </th><th>##B  </th><th>##IN  </th><th>##A  </th><th>25        </th><th>mg      </th><th>/       </th><th>m2      </th><th>IV  </th><th>DI      </th><th>##AS  </th><th>1         </th><th>,    </th><th>8    </th><th>-  </th><th>Aden            </th><th>##oca  </th><th>##rci  </th><th>##noma  </th><th>pu              </th><th>##lm  </th><th>##on  </th><th>lo              </th><th>##bulo  </th><th>superior        </th><th>derecho         </th></tr>\n",
       "</thead>\n",
       "<tbody>\n",
       "<tr><td>B-CHEMOTHERAPY</td><td>[SEP]</td><td>O  </td><td>B-DRUG</td><td>[SEP] </td><td>[SEP]</td><td>[SEP] </td><td>[SEP] </td><td>[SEP] </td><td>B-QUANTITY</td><td>B-METRIC</td><td>I-METRIC</td><td>I-METRIC</td><td>B-METRIC</td><td>[SEP]</td><td>B-QUANTITY</td><td>O   </td><td>O  </td><td>B-DRUG</td><td>[SEP] </td><td>[SEP] </td><td>[SEP]</td><td>[SEP]</td><td>[SEP] </td><td>[SEP]</td><td>B-QUANTITY</td><td>B-METRIC</td><td>I-METRIC</td><td>I-METRIC</td><td>O   </td><td>B-METRIC</td><td>[SEP] </td><td>B-QUANTITY</td><td>[SEP]</td><td>[SEP]</td><td>O  </td><td>B-CANCER_CONCEPT</td><td>[SEP]  </td><td>[SEP]  </td><td>[SEP]   </td><td>I-CANCER_CONCEPT</td><td>[SEP] </td><td>[SEP] </td><td>I-CANCER_CONCEPT</td><td>[SEP]   </td><td>I-CANCER_CONCEPT</td><td>I-CANCER_CONCEPT</td></tr>\n",
       "</tbody>\n",
       "</table></div>"
      ],
      "text/plain": [
       "<IPython.core.display.HTML object>"
      ]
     },
     "metadata": {},
     "output_type": "display_data"
    },
    {
     "name": "stdout",
     "output_type": "stream",
     "text": [
      "['El', 'dia', '27', 'de', 'junio', 'iniciamos', 'tratamiento', 'con', 'quimioterapia', 'segun', 'esquema', 'CARBOPLATINO', '/', 'PEMETREXED', '.']\n"
     ]
    },
    {
     "data": {
      "text/html": [
       "<div style='overflow-x: auto; white-space: nowrap;'><table>\n",
       "<thead>\n",
       "<tr><th>El  </th><th>dia  </th><th>27    </th><th>de    </th><th>junio  </th><th>inicia           </th><th>##mos  </th><th>tratamiento      </th><th>con  </th><th>qui           </th><th>##mio  </th><th>##tera  </th><th>##pia  </th><th>segun  </th><th>esquema  </th><th>CA    </th><th>##R  </th><th>##B  </th><th>##OP  </th><th>##LA  </th><th>##TI  </th><th>##NO  </th><th>/  </th><th>PE    </th><th>##ME  </th><th>##T  </th><th>##RE  </th><th>##X  </th><th>##ED  </th><th>.  </th></tr>\n",
       "</thead>\n",
       "<tbody>\n",
       "<tr><td>O   </td><td>O    </td><td>B-DATE</td><td>I-DATE</td><td>I-DATE </td><td>B-OCURRENCE_EVENT</td><td>[SEP]  </td><td>I-OCURRENCE_EVENT</td><td>O    </td><td>B-CHEMOTHERAPY</td><td>[SEP]  </td><td>[SEP]   </td><td>[SEP]  </td><td>O      </td><td>O        </td><td>B-DRUG</td><td>[SEP]</td><td>[SEP]</td><td>[SEP] </td><td>[SEP] </td><td>[SEP] </td><td>[SEP] </td><td>O  </td><td>B-DRUG</td><td>[SEP] </td><td>[SEP]</td><td>[SEP] </td><td>[SEP]</td><td>[SEP] </td><td>O  </td></tr>\n",
       "</tbody>\n",
       "</table></div>"
      ],
      "text/plain": [
       "<IPython.core.display.HTML object>"
      ]
     },
     "metadata": {},
     "output_type": "display_data"
    },
    {
     "name": "stdout",
     "output_type": "stream",
     "text": [
      "['CICLO', '1', 'CARBOPLATINO', 'AUC', '5', '-', 'PEMETREXED', '500', 'mg/m2', 'IV', 'cada', '21', 'dias..']\n"
     ]
    },
    {
     "data": {
      "text/html": [
       "<div style='overflow-x: auto; white-space: nowrap;'><table>\n",
       "<thead>\n",
       "<tr><th>C       </th><th>##IC  </th><th>##L  </th><th>##O  </th><th>1         </th><th>CA    </th><th>##R  </th><th>##B  </th><th>##OP  </th><th>##LA  </th><th>##TI  </th><th>##NO  </th><th>AU      </th><th>##C  </th><th>5         </th><th>-  </th><th>PE    </th><th>##ME  </th><th>##T  </th><th>##RE  </th><th>##X  </th><th>##ED  </th><th>500       </th><th>mg      </th><th>/       </th><th>m2      </th><th>IV  </th><th>cada  </th><th>21    </th><th>dias  </th><th>.  </th><th>.    </th></tr>\n",
       "</thead>\n",
       "<tbody>\n",
       "<tr><td>B-METRIC</td><td>[SEP] </td><td>[SEP]</td><td>[SEP]</td><td>B-QUANTITY</td><td>B-DRUG</td><td>[SEP]</td><td>[SEP]</td><td>[SEP] </td><td>[SEP] </td><td>[SEP] </td><td>[SEP] </td><td>B-METRIC</td><td>[SEP]</td><td>B-QUANTITY</td><td>O  </td><td>B-DRUG</td><td>[SEP] </td><td>[SEP]</td><td>[SEP] </td><td>[SEP]</td><td>[SEP] </td><td>B-QUANTITY</td><td>B-METRIC</td><td>I-METRIC</td><td>I-METRIC</td><td>O   </td><td>B-FREQ</td><td>I-FREQ</td><td>I-FREQ</td><td>O  </td><td>[SEP]</td></tr>\n",
       "</tbody>\n",
       "</table></div>"
      ],
      "text/plain": [
       "<IPython.core.display.HTML object>"
      ]
     },
     "metadata": {},
     "output_type": "display_data"
    },
    {
     "name": "stdout",
     "output_type": "stream",
     "text": [
      "['RT', 'con', 'dosis', '50', 'Gy,', 'se', 'encuentra', 'bien.']\n"
     ]
    },
    {
     "data": {
      "text/html": [
       "<div style='overflow-x: auto; white-space: nowrap;'><table>\n",
       "<thead>\n",
       "<tr><th>RT            </th><th>con  </th><th>dos  </th><th>##is  </th><th>50        </th><th>G       </th><th>##y  </th><th>,  </th><th>se  </th><th>encuentra  </th><th>bien  </th><th>.  </th></tr>\n",
       "</thead>\n",
       "<tbody>\n",
       "<tr><td>B-RADIOTHERAPY</td><td>O    </td><td>O    </td><td>[SEP] </td><td>B-QUANTITY</td><td>B-METRIC</td><td>[SEP]</td><td>O  </td><td>O   </td><td>O          </td><td>O     </td><td>O  </td></tr>\n",
       "</tbody>\n",
       "</table></div>"
      ],
      "text/plain": [
       "<IPython.core.display.HTML object>"
      ]
     },
     "metadata": {},
     "output_type": "display_data"
    },
    {
     "name": "stdout",
     "output_type": "stream",
     "text": [
      "['Carcinoma', 'escamoso', 'de', 'pulmón', 'cT3', 'cN2', 'cM0', '(al', 'menos', 'estadio', 'IIIB', 'de', 'TNM', '8ª', 'ed', '.']\n"
     ]
    },
    {
     "data": {
      "text/html": [
       "<div style='overflow-x: auto; white-space: nowrap;'><table>\n",
       "<thead>\n",
       "<tr><th>Car             </th><th>##cino  </th><th>##ma  </th><th>es              </th><th>##cam  </th><th>##oso  </th><th>de              </th><th>pu              </th><th>##lm  </th><th>##ón  </th><th>c    </th><th>##T  </th><th>##3  </th><th>c    </th><th>##N  </th><th>##2  </th><th>c    </th><th>##M  </th><th>##0  </th><th>(  </th><th>al  </th><th>menos  </th><th>estadio  </th><th>III    </th><th>##B  </th><th>de  </th><th>TN  </th><th>##M  </th><th>8         </th><th>##ª  </th><th>ed      </th><th>.  </th></tr>\n",
       "</thead>\n",
       "<tbody>\n",
       "<tr><td>B-CANCER_CONCEPT</td><td>[SEP]   </td><td>[SEP] </td><td>I-CANCER_CONCEPT</td><td>[SEP]  </td><td>[SEP]  </td><td>I-CANCER_CONCEPT</td><td>I-CANCER_CONCEPT</td><td>[SEP] </td><td>[SEP] </td><td>B-TNM</td><td>[SEP]</td><td>[SEP]</td><td>I-TNM</td><td>[SEP]</td><td>[SEP]</td><td>I-TNM</td><td>[SEP]</td><td>[SEP]</td><td>O  </td><td>O   </td><td>O      </td><td>B-STAGE  </td><td>I-STAGE</td><td>[SEP]</td><td>O   </td><td>O   </td><td>[SEP]</td><td>B-QUANTITY</td><td>[SEP]</td><td>B-METRIC</td><td>O  </td></tr>\n",
       "</tbody>\n",
       "</table></div>"
      ],
      "text/plain": [
       "<IPython.core.display.HTML object>"
      ]
     },
     "metadata": {},
     "output_type": "display_data"
    },
    {
     "name": "stdout",
     "output_type": "stream",
     "text": [
      "['Diagnosticado', 'en', 'marzo', 'de', '2016', 'de', 'Adenoca', 'de', 'pulmón', 'cT2cN2cM1a', '.']\n"
     ]
    },
    {
     "data": {
      "text/html": [
       "<div style='overflow-x: auto; white-space: nowrap;'><table>\n",
       "<thead>\n",
       "<tr><th>Dia              </th><th>##gno  </th><th>##stica  </th><th>##do  </th><th>en  </th><th>marzo  </th><th>de    </th><th>2016  </th><th>de  </th><th>Aden            </th><th>##oca  </th><th>de              </th><th>pu              </th><th>##lm  </th><th>##ón  </th><th>c    </th><th>##T  </th><th>##2  </th><th>##c  </th><th>##N  </th><th>##2  </th><th>##c  </th><th>##M  </th><th>##1  </th><th>##a  </th><th>.  </th></tr>\n",
       "</thead>\n",
       "<tbody>\n",
       "<tr><td>B-OCURRENCE_EVENT</td><td>[SEP]  </td><td>[SEP]    </td><td>[SEP] </td><td>O   </td><td>B-DATE </td><td>I-DATE</td><td>I-DATE</td><td>O   </td><td>B-CANCER_CONCEPT</td><td>[SEP]  </td><td>I-CANCER_CONCEPT</td><td>I-CANCER_CONCEPT</td><td>[SEP] </td><td>[SEP] </td><td>B-TNM</td><td>[SEP]</td><td>[SEP]</td><td>[SEP]</td><td>[SEP]</td><td>[SEP]</td><td>[SEP]</td><td>[SEP]</td><td>[SEP]</td><td>[SEP]</td><td>O  </td></tr>\n",
       "</tbody>\n",
       "</table></div>"
      ],
      "text/plain": [
       "<IPython.core.display.HTML object>"
      ]
     },
     "metadata": {},
     "output_type": "display_data"
    },
    {
     "name": "stdout",
     "output_type": "stream",
     "text": [
      "['Ha', 'sido', 'diagnosticada', 'de', 'cancer', 'de', 'pulmon', 'en', 'marzo', 'de', '2019', '.']\n"
     ]
    },
    {
     "data": {
      "text/html": [
       "<div style='overflow-x: auto; white-space: nowrap;'><table>\n",
       "<thead>\n",
       "<tr><th>Ha  </th><th>sido  </th><th>diagnostic       </th><th>##ada  </th><th>de  </th><th>cancer          </th><th>de              </th><th>pu              </th><th>##lm  </th><th>##on  </th><th>en  </th><th>marzo  </th><th>de    </th><th>2019  </th><th>.  </th></tr>\n",
       "</thead>\n",
       "<tbody>\n",
       "<tr><td>O   </td><td>O     </td><td>B-OCURRENCE_EVENT</td><td>[SEP]  </td><td>O   </td><td>B-CANCER_CONCEPT</td><td>I-CANCER_CONCEPT</td><td>I-CANCER_CONCEPT</td><td>[SEP] </td><td>[SEP] </td><td>O   </td><td>B-DATE </td><td>I-DATE</td><td>I-DATE</td><td>O  </td></tr>\n",
       "</tbody>\n",
       "</table></div>"
      ],
      "text/plain": [
       "<IPython.core.display.HTML object>"
      ]
     },
     "metadata": {},
     "output_type": "display_data"
    },
    {
     "name": "stdout",
     "output_type": "stream",
     "text": [
      "['Inicia', 'tratamiento', 'con', 'Cisplatino', '+', 'Pemetrexed', '+', 'Bevacizumab', '(5', 'ciclos', 'administrados,', 'ultimo', 'en', 'enero', 'de', '2014).']\n"
     ]
    },
    {
     "data": {
      "text/html": [
       "<div style='overflow-x: auto; white-space: nowrap;'><table>\n",
       "<thead>\n",
       "<tr><th>Ini              </th><th>##cia  </th><th>tratamiento      </th><th>con  </th><th>Ci    </th><th>##sp  </th><th>##lati  </th><th>##no  </th><th>+  </th><th>Pe    </th><th>##metre  </th><th>##xe  </th><th>##d  </th><th>+  </th><th>Be    </th><th>##vac  </th><th>##iz  </th><th>##uma  </th><th>##b  </th><th>(  </th><th>5         </th><th>ciclo   </th><th>##s  </th><th>ad  </th><th>##mini  </th><th>##strado  </th><th>##s  </th><th>,  </th><th>ultimo           </th><th>en  </th><th>enero  </th><th>de    </th><th>2014  </th><th>)  </th><th>.  </th></tr>\n",
       "</thead>\n",
       "<tbody>\n",
       "<tr><td>B-OCURRENCE_EVENT</td><td>[SEP]  </td><td>I-OCURRENCE_EVENT</td><td>O    </td><td>B-DRUG</td><td>[SEP] </td><td>[SEP]   </td><td>[SEP] </td><td>O  </td><td>B-DRUG</td><td>[SEP]    </td><td>[SEP] </td><td>[SEP]</td><td>O  </td><td>B-DRUG</td><td>[SEP]  </td><td>[SEP] </td><td>[SEP]  </td><td>[SEP]</td><td>O  </td><td>B-QUANTITY</td><td>B-METRIC</td><td>[SEP]</td><td>O   </td><td>[SEP]   </td><td>[SEP]     </td><td>[SEP]</td><td>O  </td><td>B-OCURRENCE_EVENT</td><td>O   </td><td>B-DATE </td><td>I-DATE</td><td>I-DATE</td><td>O  </td><td>O  </td></tr>\n",
       "</tbody>\n",
       "</table></div>"
      ],
      "text/plain": [
       "<IPython.core.display.HTML object>"
      ]
     },
     "metadata": {},
     "output_type": "display_data"
    },
    {
     "name": "stdout",
     "output_type": "stream",
     "text": [
      "['Carcinoma', 'escamoso', 'de', 'pulmón', 'intervenido', 'en', 'marzo', '2017', '.']\n"
     ]
    },
    {
     "data": {
      "text/html": [
       "<div style='overflow-x: auto; white-space: nowrap;'><table>\n",
       "<thead>\n",
       "<tr><th>Car             </th><th>##cino  </th><th>##ma  </th><th>es              </th><th>##cam  </th><th>##oso  </th><th>de              </th><th>pu              </th><th>##lm  </th><th>##ón  </th><th>inter            </th><th>##veni  </th><th>##do  </th><th>en  </th><th>marzo  </th><th>2017  </th><th>.  </th></tr>\n",
       "</thead>\n",
       "<tbody>\n",
       "<tr><td>B-CANCER_CONCEPT</td><td>[SEP]   </td><td>[SEP] </td><td>I-CANCER_CONCEPT</td><td>[SEP]  </td><td>[SEP]  </td><td>I-CANCER_CONCEPT</td><td>I-CANCER_CONCEPT</td><td>[SEP] </td><td>[SEP] </td><td>B-OCURRENCE_EVENT</td><td>[SEP]   </td><td>[SEP] </td><td>O   </td><td>B-DATE </td><td>I-DATE</td><td>O  </td></tr>\n",
       "</tbody>\n",
       "</table></div>"
      ],
      "text/plain": [
       "<IPython.core.display.HTML object>"
      ]
     },
     "metadata": {},
     "output_type": "display_data"
    },
    {
     "name": "stdout",
     "output_type": "stream",
     "text": [
      "['En', '2014,', 'intervenido', 'de', 'carcinoma', 'de', 'pulmón', 'pT2bN1cM0', 'realizandose', 'nefrectomia', 'derecha', '.']\n"
     ]
    },
    {
     "data": {
      "text/html": [
       "<div style='overflow-x: auto; white-space: nowrap;'><table>\n",
       "<thead>\n",
       "<tr><th>En  </th><th>2014  </th><th>,  </th><th>inter            </th><th>##veni  </th><th>##do  </th><th>de  </th><th>car             </th><th>##cino  </th><th>##ma  </th><th>de              </th><th>pu              </th><th>##lm  </th><th>##ón  </th><th>p    </th><th>##T  </th><th>##2  </th><th>##b  </th><th>##N  </th><th>##1  </th><th>##c  </th><th>##M  </th><th>##0  </th><th>realizando  </th><th>##se  </th><th>nef      </th><th>##rec  </th><th>##tomia  </th><th>derecha  </th><th>.  </th></tr>\n",
       "</thead>\n",
       "<tbody>\n",
       "<tr><td>O   </td><td>B-DATE</td><td>O  </td><td>B-OCURRENCE_EVENT</td><td>[SEP]   </td><td>[SEP] </td><td>O   </td><td>B-CANCER_CONCEPT</td><td>[SEP]   </td><td>[SEP] </td><td>I-CANCER_CONCEPT</td><td>I-CANCER_CONCEPT</td><td>[SEP] </td><td>[SEP] </td><td>B-TNM</td><td>[SEP]</td><td>[SEP]</td><td>[SEP]</td><td>[SEP]</td><td>[SEP]</td><td>[SEP]</td><td>[SEP]</td><td>[SEP]</td><td>O           </td><td>[SEP] </td><td>B-SURGERY</td><td>[SEP]  </td><td>[SEP]    </td><td>I-SURGERY</td><td>O  </td></tr>\n",
       "</tbody>\n",
       "</table></div>"
      ],
      "text/plain": [
       "<IPython.core.display.HTML object>"
      ]
     },
     "metadata": {},
     "output_type": "display_data"
    },
    {
     "name": "stdout",
     "output_type": "stream",
     "text": [
      "['carcinoma', 'microcitico', 'de', 'pulmon', 't4n2m0', 'en', 'tto', 'quimioterapico:', 'carboplatino', '/', 'etoposido', '.']\n"
     ]
    },
    {
     "data": {
      "text/html": [
       "<div style='overflow-x: auto; white-space: nowrap;'><table>\n",
       "<thead>\n",
       "<tr><th>car             </th><th>##cino  </th><th>##ma  </th><th>micro           </th><th>##citi  </th><th>##co  </th><th>de              </th><th>pu              </th><th>##lm  </th><th>##on  </th><th>t    </th><th>##4  </th><th>##n  </th><th>##2  </th><th>##m  </th><th>##0  </th><th>en  </th><th>t  </th><th>##to  </th><th>qui           </th><th>##mio  </th><th>##tera  </th><th>##pico  </th><th>:  </th><th>car   </th><th>##bo  </th><th>##pla  </th><th>##tino  </th><th>/  </th><th>et    </th><th>##op  </th><th>##osi  </th><th>##do  </th><th>.  </th></tr>\n",
       "</thead>\n",
       "<tbody>\n",
       "<tr><td>B-CANCER_CONCEPT</td><td>[SEP]   </td><td>[SEP] </td><td>I-CANCER_CONCEPT</td><td>[SEP]   </td><td>[SEP] </td><td>I-CANCER_CONCEPT</td><td>I-CANCER_CONCEPT</td><td>[SEP] </td><td>[SEP] </td><td>B-TNM</td><td>[SEP]</td><td>[SEP]</td><td>[SEP]</td><td>[SEP]</td><td>[SEP]</td><td>O   </td><td>O  </td><td>[SEP] </td><td>B-CHEMOTHERAPY</td><td>[SEP]  </td><td>[SEP]   </td><td>[SEP]   </td><td>O  </td><td>B-DRUG</td><td>[SEP] </td><td>[SEP]  </td><td>[SEP]   </td><td>O  </td><td>B-DRUG</td><td>[SEP] </td><td>[SEP]  </td><td>[SEP] </td><td>O  </td></tr>\n",
       "</tbody>\n",
       "</table></div>"
      ],
      "text/plain": [
       "<IPython.core.display.HTML object>"
      ]
     },
     "metadata": {},
     "output_type": "display_data"
    },
    {
     "name": "stdout",
     "output_type": "stream",
     "text": [
      "['Colico', 'renoureteral', 'derecho', 'con', 'fracaso', 'renal', 'obstructivo', 'en', 'Julio', 'de', '2015.']\n"
     ]
    },
    {
     "data": {
      "text/html": [
       "<div style='overflow-x: auto; white-space: nowrap;'><table>\n",
       "<thead>\n",
       "<tr><th>Col  </th><th>##ico  </th><th>ren  </th><th>##our  </th><th>##etera  </th><th>##l  </th><th>derecho  </th><th>con  </th><th>frac  </th><th>##aso  </th><th>ren  </th><th>##al  </th><th>ob  </th><th>##stru  </th><th>##ctivo  </th><th>en  </th><th>Julio  </th><th>de    </th><th>2015  </th><th>.  </th></tr>\n",
       "</thead>\n",
       "<tbody>\n",
       "<tr><td>O    </td><td>[SEP]  </td><td>O    </td><td>[SEP]  </td><td>[SEP]    </td><td>[SEP]</td><td>O        </td><td>O    </td><td>O     </td><td>[SEP]  </td><td>O    </td><td>[SEP] </td><td>O   </td><td>[SEP]   </td><td>[SEP]    </td><td>O   </td><td>B-DATE </td><td>I-DATE</td><td>I-DATE</td><td>O  </td></tr>\n",
       "</tbody>\n",
       "</table></div>"
      ],
      "text/plain": [
       "<IPython.core.display.HTML object>"
      ]
     },
     "metadata": {},
     "output_type": "display_data"
    },
    {
     "name": "stdout",
     "output_type": "stream",
     "text": [
      "['No', 'HTA,', 'no', 'DM,', 'no', 'DL', '.']\n"
     ]
    },
    {
     "data": {
      "text/html": [
       "<div style='overflow-x: auto; white-space: nowrap;'><table>\n",
       "<thead>\n",
       "<tr><th>No  </th><th>H            </th><th>##TA  </th><th>,  </th><th>no  </th><th>DM           </th><th>,  </th><th>no  </th><th>DL           </th><th>.  </th></tr>\n",
       "</thead>\n",
       "<tbody>\n",
       "<tr><td>O   </td><td>B-COMORBIDITY</td><td>[SEP] </td><td>O  </td><td>O   </td><td>B-COMORBIDITY</td><td>O  </td><td>O   </td><td>B-COMORBIDITY</td><td>O  </td></tr>\n",
       "</tbody>\n",
       "</table></div>"
      ],
      "text/plain": [
       "<IPython.core.display.HTML object>"
      ]
     },
     "metadata": {},
     "output_type": "display_data"
    },
    {
     "name": "stdout",
     "output_type": "stream",
     "text": [
      "['No', 'dislipemia', '.']\n"
     ]
    },
    {
     "data": {
      "text/html": [
       "<div style='overflow-x: auto; white-space: nowrap;'><table>\n",
       "<thead>\n",
       "<tr><th>No  </th><th>dis          </th><th>##lip  </th><th>##emia  </th><th>.  </th></tr>\n",
       "</thead>\n",
       "<tbody>\n",
       "<tr><td>O   </td><td>B-COMORBIDITY</td><td>[SEP]  </td><td>[SEP]   </td><td>O  </td></tr>\n",
       "</tbody>\n",
       "</table></div>"
      ],
      "text/plain": [
       "<IPython.core.display.HTML object>"
      ]
     },
     "metadata": {},
     "output_type": "display_data"
    },
    {
     "name": "stdout",
     "output_type": "stream",
     "text": [
      "['Biopsia', 'hepatica', '07/05/2019', ':', 'bajo', 'control', 'ecografico', 'se', 'localiza', 'masa', 'homogenea', 'tenuemente', 'hipoecogenica', 'de', '4,8', 'x', '2,9', 'x', '2,3', 'cm', 'en', 'segmento', 'ii', 'y', 'se', 'procede', 'a', 'realizar', 'bag', 'ecoguiada', 'de', 'la', 'misma', '.']\n"
     ]
    },
    {
     "data": {
      "text/html": [
       "<div style='overflow-x: auto; white-space: nowrap;'><table>\n",
       "<thead>\n",
       "<tr><th>Bio  </th><th>##psia  </th><th>hep  </th><th>##atica  </th><th>07    </th><th>/    </th><th>05   </th><th>/    </th><th>2019  </th><th>:  </th><th>bajo  </th><th>control  </th><th>e  </th><th>##co  </th><th>##grafico  </th><th>se  </th><th>localiza  </th><th>masa  </th><th>homo  </th><th>##gene  </th><th>##a  </th><th>tenue  </th><th>##mente  </th><th>hip  </th><th>##oe  </th><th>##co  </th><th>##geni  </th><th>##ca  </th><th>de  </th><th>4         </th><th>,    </th><th>8    </th><th>x         </th><th>2         </th><th>,    </th><th>9    </th><th>x         </th><th>2         </th><th>,    </th><th>3    </th><th>cm      </th><th>en  </th><th>segmento  </th><th>ii  </th><th>y  </th><th>se  </th><th>procede  </th><th>a  </th><th>realizar  </th><th>bag  </th><th>e  </th><th>##co  </th><th>##gui  </th><th>##ada  </th><th>de  </th><th>la  </th><th>misma  </th><th>.  </th></tr>\n",
       "</thead>\n",
       "<tbody>\n",
       "<tr><td>O    </td><td>[SEP]   </td><td>O    </td><td>[SEP]    </td><td>B-DATE</td><td>[SEP]</td><td>[SEP]</td><td>[SEP]</td><td>[SEP] </td><td>O  </td><td>O     </td><td>O        </td><td>O  </td><td>[SEP] </td><td>[SEP]      </td><td>O   </td><td>O         </td><td>O     </td><td>O     </td><td>[SEP]   </td><td>[SEP]</td><td>O      </td><td>[SEP]    </td><td>O    </td><td>[SEP] </td><td>[SEP] </td><td>[SEP]   </td><td>[SEP] </td><td>O   </td><td>B-QUANTITY</td><td>[SEP]</td><td>[SEP]</td><td>I-QUANTITY</td><td>I-QUANTITY</td><td>[SEP]</td><td>[SEP]</td><td>I-QUANTITY</td><td>I-QUANTITY</td><td>[SEP]</td><td>[SEP]</td><td>B-METRIC</td><td>O   </td><td>O         </td><td>O   </td><td>O  </td><td>O   </td><td>O        </td><td>O  </td><td>O         </td><td>O    </td><td>O  </td><td>[SEP] </td><td>[SEP]  </td><td>[SEP]  </td><td>O   </td><td>O   </td><td>O      </td><td>O  </td></tr>\n",
       "</tbody>\n",
       "</table></div>"
      ],
      "text/plain": [
       "<IPython.core.display.HTML object>"
      ]
     },
     "metadata": {},
     "output_type": "display_data"
    }
   ],
   "source": [
    "for h, oracc in enumerate(ner_samples):\n",
    "    #heads = oracc\n",
    "    #if h == 0:\n",
    "    tokensito = []\n",
    "    for wordi in oracc:\n",
    "        wordi_tokens = tokenizer.tokenize(str(wordi))\n",
    "        tokensito.extend(wordi_tokens)\n",
    "\n",
    "    print(oracc)\n",
    "    #print(tokensito)\n",
    "    #print(demo_y_pred[h])\n",
    "    heads = tokensito\n",
    "    body  = [demo_y_pred[h][1:len(tokensito)+1]]\n",
    "    display(HTML(\"<div style='overflow-x: auto; white-space: nowrap;'>\" + \n",
    "                 tabulate(body, headers=heads, tablefmt=\"html\") + \n",
    "                 \"</div>\"))"
   ]
  },
  {
   "cell_type": "code",
   "execution_count": null,
   "id": "077bb3b8",
   "metadata": {},
   "outputs": [],
   "source": []
  },
  {
   "cell_type": "code",
   "execution_count": null,
   "id": "682ddf05",
   "metadata": {},
   "outputs": [],
   "source": []
  }
 ],
 "metadata": {
  "kernelspec": {
   "display_name": "python3.8",
   "language": "python",
   "name": "python3.8"
  },
  "language_info": {
   "codemirror_mode": {
    "name": "ipython",
    "version": 3
   },
   "file_extension": ".py",
   "mimetype": "text/x-python",
   "name": "python",
   "nbconvert_exporter": "python",
   "pygments_lexer": "ipython3",
   "version": "3.8.12"
  },
  "varInspector": {
   "cols": {
    "lenName": 16,
    "lenType": 16,
    "lenVar": 40
   },
   "kernels_config": {
    "python": {
     "delete_cmd_postfix": "",
     "delete_cmd_prefix": "del ",
     "library": "var_list.py",
     "varRefreshCmd": "print(var_dic_list())"
    },
    "r": {
     "delete_cmd_postfix": ") ",
     "delete_cmd_prefix": "rm(",
     "library": "var_list.r",
     "varRefreshCmd": "cat(var_dic_list()) "
    }
   },
   "types_to_exclude": [
    "module",
    "function",
    "builtin_function_or_method",
    "instance",
    "_Feature"
   ],
   "window_display": false
  }
 },
 "nbformat": 4,
 "nbformat_minor": 5
}
